{
 "cells": [
  {
   "cell_type": "markdown",
   "metadata": {
    "ExecuteTime": {
     "end_time": "2018-12-21T11:57:03.237939Z",
     "start_time": "2018-12-21T11:57:03.235541Z"
    }
   },
   "source": [
    "#This notebook will be the only interaction with all any experiment notebook\n",
    "From here the function calls to all the preprocessing and clustering notebooks will be done"
   ]
  },
  {
   "cell_type": "code",
   "execution_count": null,
   "metadata": {},
   "outputs": [],
   "source": []
  },
  {
   "cell_type": "code",
   "execution_count": 2,
   "metadata": {
    "ExecuteTime": {
     "end_time": "2018-12-21T11:58:21.546756Z",
     "start_time": "2018-12-21T11:58:18.952279Z"
    }
   },
   "outputs": [
    {
     "name": "stdout",
     "output_type": "stream",
     "text": [
      "Collecting ipynb\n",
      "  Downloading https://files.pythonhosted.org/packages/31/42/4c0bbb66390e3a68e04ebf134c8d074a00c18b5882293f8ace5f7497fbf0/ipynb-0.5.1-py3-none-any.whl\n",
      "Installing collected packages: ipynb\n",
      "Successfully installed ipynb-0.5.1\n",
      "\u001b[33mYou are using pip version 10.0.1, however version 18.1 is available.\n",
      "You should consider upgrading via the 'pip install --upgrade pip' command.\u001b[0m\n"
     ]
    }
   ],
   "source": [
    "!pip install ipynb\n",
    "# ~python3 -m pip install ipynb"
   ]
  },
  {
   "cell_type": "code",
   "execution_count": null,
   "metadata": {},
   "outputs": [],
   "source": []
  },
  {
   "cell_type": "code",
   "execution_count": null,
   "metadata": {},
   "outputs": [],
   "source": []
  },
  {
   "cell_type": "code",
   "execution_count": null,
   "metadata": {},
   "outputs": [],
   "source": []
  },
  {
   "cell_type": "code",
   "execution_count": null,
   "metadata": {},
   "outputs": [],
   "source": []
  },
  {
   "cell_type": "code",
   "execution_count": null,
   "metadata": {},
   "outputs": [],
   "source": []
  },
  {
   "cell_type": "code",
   "execution_count": null,
   "metadata": {},
   "outputs": [],
   "source": []
  },
  {
   "cell_type": "code",
   "execution_count": null,
   "metadata": {},
   "outputs": [],
   "source": []
  },
  {
   "cell_type": "code",
   "execution_count": null,
   "metadata": {},
   "outputs": [],
   "source": [
    "i = 10\n",
    "\n",
    "seed = 3\n",
    "max_iter= 100\n",
    "rangeK = range(2, 11)\n",
    "\n",
    "# list of lists for scores based on different k values for all dataframes\n",
    "df_scores = []\n",
    "\n",
    "\n",
    "k_scores = [] # list of the scores for range of K for the current dataframe\n",
    "data = dataframes[i].copy()\n",
    "for k in rangeK:\n",
    "    model, labels = doKshape(data, dataframes_names[i], k, seed, max_iter)\n",
    "    k_scores.append(get_validation_scores(data.values, labels))\n",
    "    print(\"Dataframe: {}, Kshape with K = {}\".format(dataframes_names[i], k))\n",
    "\n",
    "\n",
    "df_scores.append(k_scores)\n",
    "\n",
    "obj_name = 'data/{}_kshape_scores'.format(dataframes_names[i])\n",
    "\n",
    "\n",
    "# save as python pickle\n",
    "f = open(obj_name + '.pkl', 'wb')\n",
    "pickle.dump(df_scores, f)\n",
    "f.close\n",
    "# save as csv\n",
    "df_scores = pd.DataFrame.from_dict(df_scores)\n",
    "df_scores.to_csv('{}.csv'.format(obj_name))"
   ]
  },
  {
   "cell_type": "code",
   "execution_count": null,
   "metadata": {},
   "outputs": [],
   "source": [
    "# plotting curves based on metrics\n",
    "i = 10\n",
    "\n",
    "filename = [\"data/BDG_avg_weekday_kshape_scores.pkl\", \"data/BDG_median_weekday_kshape_scores.pkl\", \"data/BDG_regression_weekday_kshape_scores.pkl\",\n",
    "            \"data/BDG_avg_weekend_kshape_scores.pkl\", \"data/BDG_median_weekend_kshape_scores.pkl\", \"data/BDG_regression_weekend_kshape_scores.pkl\",\n",
    "            \"data/DC_avg_weekday_kshape_scores.pkl\", \"data/DC_median_weekday_kshape_scores.pkl\", \"data/DC_regression_weekday_kshape_scores.pkl\",\n",
    "            \"data/DC_avg_weekend_kshape_scores.pkl\", \"data/DC_median_weekend_kshape_scores.pkl\", \"data/DC_regression_weekend_kshape_scores.pkl\"]\n",
    "\n",
    "# read pickle files for each dataset\n",
    "rangeK = range(2, 11)\n",
    "pickle_in = open(filename[i], \"rb\")\n",
    "df_scores = pickle.load(pickle_in)\n",
    "pickle_in.close()\n",
    "\n",
    "# print(df_scores[0])\n",
    "# combine all metrics for each K value (of current dataset)\n",
    "k_metrics = combineMetrics(df_scores[0], rangeK)\n",
    "\n",
    "metric_index = 0\n",
    "f, axarr = plt.subplots(len(k_metrics), sharex=False, figsize =(10,30))\n",
    "# iterate through every metric and plot the value versus the correspondant k value\n",
    "for metric in k_metrics.keys():\n",
    "    axarr[metric_index].plot(rangeK, k_metrics.get(metric), \"k-\")\n",
    "    axarr[metric_index].set_title(\"{} curve over K values\".format(metric), fontsize = 18)\n",
    "\n",
    "    metric_index += 1\n",
    "plt.show()\n",
    "f.savefig(\"img/{}_kshape_plot.png\".format(dataframes_names[i]), bbox_inches='tight')\n"
   ]
  },
  {
   "cell_type": "code",
   "execution_count": null,
   "metadata": {},
   "outputs": [],
   "source": []
  },
  {
   "cell_type": "code",
   "execution_count": null,
   "metadata": {},
   "outputs": [],
   "source": []
  },
  {
   "cell_type": "code",
   "execution_count": null,
   "metadata": {},
   "outputs": [],
   "source": []
  },
  {
   "cell_type": "code",
   "execution_count": null,
   "metadata": {},
   "outputs": [],
   "source": []
  }
 ],
 "metadata": {
  "kernelspec": {
   "display_name": "Python 3",
   "language": "python",
   "name": "python3"
  },
  "language_info": {
   "codemirror_mode": {
    "name": "ipython",
    "version": 3
   },
   "file_extension": ".py",
   "mimetype": "text/x-python",
   "name": "python",
   "nbconvert_exporter": "python",
   "pygments_lexer": "ipython3",
   "version": "3.6.6"
  },
  "toc": {
   "base_numbering": 1,
   "nav_menu": {},
   "number_sections": true,
   "sideBar": true,
   "skip_h1_title": false,
   "title_cell": "Table of Contents",
   "title_sidebar": "Contents",
   "toc_cell": false,
   "toc_position": {},
   "toc_section_display": true,
   "toc_window_display": false
  }
 },
 "nbformat": 4,
 "nbformat_minor": 2
}
