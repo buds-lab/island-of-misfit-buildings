{
 "cells": [
  {
   "cell_type": "code",
   "execution_count": 2,
   "metadata": {
    "ExecuteTime": {
     "end_time": "2018-12-21T11:47:44.884648Z",
     "start_time": "2018-12-21T11:47:42.991073Z"
    }
   },
   "outputs": [],
   "source": [
    "# NumPy, SciPy and Pandas\n",
    "from scipy.spatial.distance import cdist\n",
    "import numpy as np\n",
    "import pandas as pd\n",
    "\n",
    "# TSLEARN\n",
    "from tslearn.preprocessing import TimeSeriesScalerMeanVariance\n",
    "from tslearn.utils import to_time_series_dataset\n",
    "from tslearn.clustering import KShape\n"
   ]
  },
  {
   "cell_type": "code",
   "execution_count": 3,
   "metadata": {
    "ExecuteTime": {
     "end_time": "2018-12-21T11:47:45.389365Z",
     "start_time": "2018-12-21T11:47:45.382971Z"
    }
   },
   "outputs": [],
   "source": [
    "\"\"\"\n",
    "Perform the k-shape algorithm using the tslearn library. The function takes a dataframe of multiple time series (each\n",
    "row is a time series) and returns the centroids as well as the cluster labels for each time series\n",
    "\"\"\"\n",
    "def doKshape(dataframe, dataframe_name, k, seed=3, max_iter=200, plot=False):\n",
    "    df_scaled = TimeSeriesScalerMeanVariance(mu=0.0, std=1.0).fit_transform(dataframe.values)\n",
    "    # dataframe.values will generate a 3d array (the third dimension being 1) so we convert it to a 2d array\n",
    "    df_scaled = np.squeeze(df_scaled) # now is a 2d array\n",
    "\n",
    "    sz = df_scaled.shape[1] # length of each time series\n",
    "    ks = KShape(n_clusters=k, verbose=False, random_state=seed, max_iter=max_iter) # create the model\n",
    "    y_pred = ks.fit_predict(df_scaled) # fit the data and generate the cluster labels\n",
    "    \n",
    "    if plot: # for each cluster generate a plot\n",
    "        fig = plt.figure(figsize=(20, 10))\n",
    "        for yi in range(k):\n",
    "            plt.subplot(k, 1, 1 + yi)\n",
    "\n",
    "            # for each time series in the scaled dataframe\n",
    "            for xx in df_scaled[y_pred == yi]:\n",
    "                plt.plot(xx.ravel(), \"k-\", alpha=.2)\n",
    "\n",
    "            # add the centroid (in red) to the plot\n",
    "            plt.plot(ks.cluster_centers_[yi].ravel(), \"r-\")\n",
    "            plt.xlim(0, sz)\n",
    "            plt.ylim(-4, 4)\n",
    "            plt.title(\"Cluster %d\" % (yi + 1), fontsize = 20)\n",
    "        fig.suptitle(\"Dataset: {}\".format(dataframe_name), fontsize = 25)\n",
    "\n",
    "    # return the clusterlabels and the cluster centers\n",
    "    return ks, y_pred\n"
   ]
  },
  {
   "cell_type": "code",
   "execution_count": null,
   "metadata": {},
   "outputs": [],
   "source": []
  }
 ],
 "metadata": {
  "kernelspec": {
   "display_name": "Python 3",
   "language": "python",
   "name": "python3"
  },
  "language_info": {
   "codemirror_mode": {
    "name": "ipython",
    "version": 3
   },
   "file_extension": ".py",
   "mimetype": "text/x-python",
   "name": "python",
   "nbconvert_exporter": "python",
   "pygments_lexer": "ipython3",
   "version": "3.6.6"
  },
  "toc": {
   "base_numbering": 1,
   "nav_menu": {},
   "number_sections": true,
   "sideBar": true,
   "skip_h1_title": false,
   "title_cell": "Table of Contents",
   "title_sidebar": "Contents",
   "toc_cell": false,
   "toc_position": {},
   "toc_section_display": true,
   "toc_window_display": false
  }
 },
 "nbformat": 4,
 "nbformat_minor": 2
}
