{
 "cells": [
  {
   "cell_type": "code",
   "execution_count": 2,
   "metadata": {
    "ExecuteTime": {
     "end_time": "2018-12-27T04:09:04.104316Z",
     "start_time": "2018-12-27T04:09:01.786306Z"
    }
   },
   "outputs": [],
   "source": [
    "# NumPy, SciPy and Pandas\n",
    "from scipy.spatial.distance import cdist\n",
    "import numpy as np\n",
    "import pandas as pd\n",
    "\n",
    "# Tslearn\n",
    "from tslearn.preprocessing import TimeSeriesScalerMeanVariance\n",
    "from tslearn.utils import to_time_series_dataset\n",
    "from tslearn.clustering import KShape\n",
    "\n",
    "# Github https://github.com/Mic92/kshape\n",
    "from kshape.core import kshape, zscore\n",
    "\n",
    "# Scikit-Learn\n",
    "from sklearn.cluster import KMeans\n",
    "from sklearn.cluster import AgglomerativeClustering\n",
    "import scipy.cluster.hierarchy as shc\n",
    "\n",
    "# Matplotlib\n",
    "import matplotlib.pyplot as plt\n",
    "import matplotlib.cm as cm"
   ]
  },
  {
   "cell_type": "code",
   "execution_count": 1,
   "metadata": {
    "ExecuteTime": {
     "end_time": "2018-12-29T11:53:20.819244Z",
     "start_time": "2018-12-29T11:53:20.806813Z"
    }
   },
   "outputs": [],
   "source": [
    "def doClustering(dataframe, dataframe_name, algorithm, k, seed=3, max_iter=200, plot=False):\n",
    "    # dataframe is already a 2D array\n",
    "    other_kshape = False\n",
    "    \n",
    "    # choose algorithm #TODO: this could be optimized with classes\n",
    "    if algorithm == 'kshape':\n",
    "#         model = KShape(n_clusters=k, verbose=False, random_state=seed, max_iter=max_iter)\n",
    "\n",
    "        # other implementation of kshape https://github.com/Mic92/kshape\n",
    "        model = kshape(dataframe, k) # list of tuples with (cluster_center, index of instance in this cluster)\n",
    "        other_kshape = True\n",
    "        # extract parameters\n",
    "        cluster_centers = []\n",
    "        y_pred = pd.DataFrame()\n",
    "        y_pred.loc[:, 0] = [0] * dataframe.shape[0] # initilize cluster membership\n",
    "        # for each tuple\n",
    "        for yi in range(k):\n",
    "            cluster_centers.append(model[yi][0]) # get cluster centers as first element of tuple\n",
    "            y_pred.loc[model[yi][1], 0] = yi # update cluster membership\n",
    "        # make them a list\n",
    "        y_pred = y_pred.iloc[:, 0].values \n",
    "        \n",
    "    elif algorithm == 'kmeans':\n",
    "        model = KMeans(n_clusters=k, random_state=seed, max_iter=max_iter)\n",
    "    elif algorithm == 'hierarchical':\n",
    "        model = AgglomerativeClustering(n_clusters=k, affinity='euclidean', linkage='ward')\n",
    "    \n",
    "    sz = dataframe.shape[1] # length of each time series\n",
    "    \n",
    "    if not other_kshape:\n",
    "        y_pred = model.fit_predict(dataframe) # fit the data and generate the cluster labels\n",
    "\n",
    "    if plot: # for each cluster generate a plot\n",
    "        fig = plt.figure(figsize=(20, 10))\n",
    "        for yi in range(k):\n",
    "            plt.subplot(k, 1, 1 + yi)\n",
    "\n",
    "            # for each time series in the scaled dataframe\n",
    "            for xx in dataframe[y_pred == yi]:\n",
    "                plt.plot(xx.ravel(), \"k-\", alpha=.2)\n",
    "\n",
    "            # add the centroid (in red) to the plot\n",
    "            if algorithm != 'hierarchical' and not other_kshape:\n",
    "                plt.plot(model.cluster_centers_[yi].ravel(), \"r-\", linewidth=3)\n",
    "\n",
    "            if other_kshape: # testing the other kshape\n",
    "                plt.plot(cluster_centers[yi].ravel(), \"r-\", linewidth=3)\n",
    "\n",
    "            plt.xlim(0, sz)\n",
    "            plt.ylim(-4, 4)\n",
    "            plt.title(\"Cluster %d\" % (yi + 1), fontsize = 30)\n",
    "        fig.suptitle(\"Dataset: {}\".format(dataframe_name), fontsize = 35)\n",
    "        \n",
    "    # return the clusterlabels and the cluster centers\n",
    "    return model, y_pred"
   ]
  }
 ],
 "metadata": {
  "kernelspec": {
   "display_name": "Python 3",
   "language": "python",
   "name": "python3"
  },
  "language_info": {
   "codemirror_mode": {
    "name": "ipython",
    "version": 3
   },
   "file_extension": ".py",
   "mimetype": "text/x-python",
   "name": "python",
   "nbconvert_exporter": "python",
   "pygments_lexer": "ipython3",
   "version": "3.6.6"
  },
  "toc": {
   "base_numbering": 1,
   "nav_menu": {},
   "number_sections": true,
   "sideBar": true,
   "skip_h1_title": false,
   "title_cell": "Table of Contents",
   "title_sidebar": "Contents",
   "toc_cell": false,
   "toc_position": {},
   "toc_section_display": true,
   "toc_window_display": false
  }
 },
 "nbformat": 4,
 "nbformat_minor": 2
}
