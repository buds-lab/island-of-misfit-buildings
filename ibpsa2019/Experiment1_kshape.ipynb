{
 "cells": [
  {
   "cell_type": "markdown",
   "metadata": {},
   "source": [
    "# Experiment 1: k-Shape on Raw Time Series"
   ]
  },
  {
   "cell_type": "markdown",
   "metadata": {},
   "source": [
    "## Prepare the input data\n",
    "\n",
    "- List the datasets\n",
    "- List the desired contexts\n",
    "- List the aggregation functions"
   ]
  },
  {
   "cell_type": "code",
   "execution_count": 1,
   "metadata": {
    "ExecuteTime": {
     "end_time": "2018-12-20T06:38:13.927229Z",
     "start_time": "2018-12-20T06:38:11.575055Z"
    }
   },
   "outputs": [],
   "source": [
    "import functions as func\n",
    "\n",
    "datasets = ['BDG', 'DC']\n",
    "contexts = ['weekday', 'weekend']\n",
    "aggregation_functions = ['average', 'median', 'regression']\n"
   ]
  },
  {
   "cell_type": "code",
   "execution_count": 2,
   "metadata": {
    "ExecuteTime": {
     "end_time": "2018-12-20T06:38:34.965412Z",
     "start_time": "2018-12-20T06:38:13.928976Z"
    }
   },
   "outputs": [
    {
     "name": "stderr",
     "output_type": "stream",
     "text": [
      "/Users/matias/miniconda3/lib/python3.6/site-packages/IPython/core/interactiveshell.py:3185: DtypeWarning: Columns (2,3,4,5,6,7,8,9,10,11,12,13,14,15,16,17,18,19,20,21,22,23,24,25,26,27,28,29,30,31,32,33,34,35,36,37,38,39,40,41,42,43,44,45,46,47,48,49,50,51,52,53,54,55,56,57,58,59,60,61,62,63,64,65,66,67,68,69,70,71,72,73,74,75,76,77,78,79,80,81,82,83,84,85,86,87,88,89,90,91,92,93,94,95,96,97,98,99,100,101,102,103,104,105,106,107,108,109,110,111,112,113,114,115,116,117,118,119,120,121,122,123,124,125,126,127,128,129,130,131,132,133,134,135,136,137,138,139,140,141,142,143,144,145,146,147,148,149,150,151,152,153,154,155,156,157,158,159,160,161,162,163,164,165,166,167,168,169,170,171,172,173,174,175,176,177,178,179,180,181,182,183,184,185,186,187,188,189,190,191,192,193,194,195,196,197,198,199,200,201,202,203,204,205,206,207,208,209,210,211,212,213,214,215,216,217,218,219,220,221,222,223,224,225,226,227,228,229,230,231,232,233,234,235,236,237,238,239,240,241,242,243,244,245,246,247,248,249,250,251,252,253,254,255,256,257,258,259,260,261,262,263,264,265,266,267,268,269,270,271,272,273,274,275,276,277,278,279,280,281,282,283,284,285,286,287,288,289,290,291,292,293,294,295,296,297,298,299,300,301,302,303,304,305,306,307,308,309,310,311,312,313,314,315,316,317,318,319,320,321,322,323,324) have mixed types. Specify dtype option on import or set low_memory=False.\n",
      "  if (yield from self.run_code(code, result)):\n"
     ]
    }
   ],
   "source": [
    "# Load datasets\n",
    "\n",
    "df_bdg = func.loadDataset(datasets[0])\n",
    "df_dc = func.loadDataset(datasets[1])\n",
    "\n",
    "# functions already ran, csv files can be found in data/"
   ]
  },
  {
   "cell_type": "code",
   "execution_count": 4,
   "metadata": {
    "ExecuteTime": {
     "end_time": "2018-12-20T06:39:36.508718Z",
     "start_time": "2018-12-20T06:39:25.519783Z"
    }
   },
   "outputs": [],
   "source": [
    "# Get contexts\n",
    "\n",
    "df_weekday_BDG = func.getContext(contexts[0], df_bdg, datasets[0])\n",
    "df_weekend_BDG = func.getContext(contexts[1], df_bdg, datasets[0])\n",
    "\n",
    "df_weekday_DC = func.getContext(contexts[0], df_dc, datasets[1])\n",
    "df_weekend_DC = func.getContext(contexts[1], df_dc, datasets[1])\n",
    "\n",
    "# functions already ran, csv files can be found in data/"
   ]
  },
  {
   "cell_type": "code",
   "execution_count": null,
   "metadata": {
    "ExecuteTime": {
     "start_time": "2018-12-20T06:39:54.256Z"
    }
   },
   "outputs": [],
   "source": [
    "# calculate load curves based on aggregation functions\n",
    "\n",
    "# df_average_weekday_BDG = func.doAggregation(df_weekday_BDG, contexts[0], aggregation_functions[0], 'day', datasets[0])\n",
    "# df_median_weekday_BDG = func.doAggregation(df_weekday_BDG, contexts[0], aggregation_functions[1], 'day', datasets[0])\n",
    "df_regression_weekday_BDG = func.doAggregation(df_weekday_BDG, contexts[0], aggregation_functions[2], 'day', datasets[0])\n",
    "# df_average_weekend_BDG = func.doAggregation(df_weekend_BDG, contexts[1], aggregation_functions[0], 'day', datasets[0])\n",
    "# df_median_weekend_BDG = func.doAggregation(df_weekend_BDG, contexts[1], aggregation_functions[1], 'day', datasets[0])\n",
    "df_regression_weekend_BDG = func.doAggregation(df_weekend_BDG, contexts[0], aggregation_functions[2], 'day', datasets[0])\n",
    "\n",
    "# df_average_weekday_DC = func.doAggregation(df_weekday_DC, contexts[0], aggregation_functions[0], 'day', datasets[1])\n",
    "# df_median_weekday_DC = func.doAggregation(df_weekday_DC, contexts[0], aggregation_functions[1], 'day', datasets[1])\n",
    "df_regression_weekday_DC = func.doAggregation(df_weekday_DC, contexts[0], aggregation_functions[2], 'day', datasets[1])\n",
    "# df_average_weekend_DC = func.doAggregation(df_weekend_DC, contexts[1], aggregation_functions[0], 'day', datasets[1])\n",
    "# df_median_weekend_DC = func.doAggregation(df_weekend_DC, contexts[1], aggregation_functions[1], 'day', datasets[1])\n",
    "df_regression_weekend_DC = func.doAggregation(df_weekend_DC, contexts[1], aggregation_functions[2], 'day', datasets[1])\n",
    "\n",
    "# functions already ran, csv files can be found in data/"
   ]
  },
  {
   "cell_type": "code",
   "execution_count": 8,
   "metadata": {
    "ExecuteTime": {
     "end_time": "2018-12-20T05:34:19.739880Z",
     "start_time": "2018-12-20T05:34:19.674387Z"
    }
   },
   "outputs": [],
   "source": [
    "# loading files since they have already been generated before\n",
    "\n",
    "import pandas as pd\n",
    "\n",
    "df_average_weekday_BDG = pd.read_csv('data/BDG_loadCurves_weekday_day_average.csv', index_col=0)\n",
    "df_median_weekday_BDG = pd.read_csv('data/BDG_loadCurves_weekday_day_median.csv', index_col=0)\n",
    "df_average_weekend_BDG = pd.read_csv('data/BDG_loadCurves_weekend_day_average.csv', index_col=0)\n",
    "df_median_weekend_BDG = pd.read_csv('data/BDG_loadCurves_weekend_day_median.csv', index_col=0)\n",
    "\n",
    "df_average_weekday_DC = pd.read_csv('data/DC_loadCurves_weekday_day_average.csv', index_col=0)\n",
    "df_median_weekday_DC = pd.read_csv('data/DC_loadCurves_weekday_day_median.csv', index_col=0)\n",
    "df_average_weekend_DC = pd.read_csv('data/DC_loadCurves_weekend_day_average.csv', index_col=0)\n",
    "df_median_weekend_DC = pd.read_csv('data/DC_loadCurves_weekend_day_median.csv', index_col=0)\n"
   ]
  },
  {
   "cell_type": "code",
   "execution_count": 10,
   "metadata": {
    "ExecuteTime": {
     "end_time": "2018-12-20T05:35:00.437745Z",
     "start_time": "2018-12-20T05:35:00.434437Z"
    }
   },
   "outputs": [],
   "source": [
    "# group dataframes\n",
    "dataframes_names = ['BDG_avg_weekday', 'BDG_median_weekday', 'BDG_avg_weekend', 'BDG_median_weekend',\n",
    "                   'DC_avg_weekday', 'DC_median_weekday', 'DC_avg_weekend', 'DC_median_weekend']\n",
    "dataframes = [df_average_weekday_BDG, df_median_weekday_BDG, df_average_weekend_BDG, df_median_weekend_BDG, \n",
    "             df_average_weekday_DC, df_median_weekday_DC, df_average_weekend_DC, df_median_weekend_DC]"
   ]
  },
  {
   "cell_type": "markdown",
   "metadata": {},
   "source": [
    "## Download k-Shape library (and other needed libraries)"
   ]
  },
  {
   "cell_type": "markdown",
   "metadata": {},
   "source": [
    "First from: https://github.com/Mic92/kshape and also from: https://tslearn.readthedocs.io/en/latest/auto_examples/plot_kshape.html#"
   ]
  },
  {
   "cell_type": "code",
   "execution_count": 30,
   "metadata": {
    "ExecuteTime": {
     "end_time": "2018-12-20T05:51:56.394776Z",
     "start_time": "2018-12-20T05:51:56.386335Z"
    }
   },
   "outputs": [],
   "source": [
    "# Built-in libraries\n",
    "import time\n",
    "from itertools import product\n",
    "from math import log\n",
    "\n",
    "# NumPy, SciPy and Pandas\n",
    "from scipy.spatial.distance import cdist\n",
    "import numpy as np\n",
    "import pandas as pd\n",
    "\n",
    "# Scikit-Learn\n",
    "from sklearn.metrics import silhouette_score, silhouette_samples\n",
    "from sklearn.metrics.pairwise import pairwise_distances\n",
    "\n",
    "# Matplotlib\n",
    "import matplotlib.pyplot as plt\n",
    "import matplotlib.cm as cm\n",
    "\n",
    "\n",
    "\n",
    "\n",
    "from collections import Counter\n",
    "\n",
    "from tslearn.preprocessing import TimeSeriesScalerMeanVariance\n",
    "from tslearn.utils import to_time_series_dataset\n",
    "from tslearn.clustering import KShape\n",
    "\n",
    "from yellowbrick.cluster import SilhouetteVisualizer\n",
    "from yellowbrick.cluster import KElbowVisualizer\n",
    "\n",
    "\n",
    "\n"
   ]
  },
  {
   "cell_type": "markdown",
   "metadata": {},
   "source": [
    "## Run k-Shape algorithm\n"
   ]
  },
  {
   "cell_type": "markdown",
   "metadata": {},
   "source": [
    "Observations from the github repo:\n",
    "- If the data is available from different sources with same frequency but at different points in time, it needs to be aligned.\n",
    "- kshape also expect no time series with a constant observation value or 'N/A'\n",
    "\n",
    "Distance measure: normalized cross-correlation measure (consider the shape while comparing them)"
   ]
  },
  {
   "cell_type": "code",
   "execution_count": 19,
   "metadata": {
    "ExecuteTime": {
     "end_time": "2018-12-20T05:42:58.486667Z",
     "start_time": "2018-12-20T05:42:58.472302Z"
    }
   },
   "outputs": [],
   "source": [
    "\"\"\"\n",
    "Perform the k-shape algorithm using the tslearn library. The function takes a dataframe of multiple time series (each\n",
    "row is a time series) and returns the centroids as well as the cluster labels for each time series\n",
    "\"\"\"\n",
    "def doKshape(dataframe, dataframe_name, k, seed=3, max_iter=200, plot=False):\n",
    "    df_scaled = TimeSeriesScalerMeanVariance(mu=0.0, std=1.0).fit_transform(dataframe.values)\n",
    "    # dataframe.values will generate a 3d array (the third dimension being 1) so we convert it to a 2d array\n",
    "    df_scaled = np.squeeze(df_scaled) # now is a 2d array\n",
    "\n",
    "    sz = df_scaled.shape[1] # length of each time series\n",
    "    ks = KShape(n_clusters=k, verbose=False, random_state=seed, max_iter=max_iter) # create the model\n",
    "    y_pred = ks.fit_predict(df_scaled) # fit the data and generate the cluster labels\n",
    "    \n",
    "    if plot: # for each cluster generate a plot\n",
    "        fig = plt.figure(figsize=(20, 10))\n",
    "        for yi in range(k):\n",
    "            plt.subplot(k, 1, 1 + yi)\n",
    "\n",
    "            # for each time series in the scaled dataframe\n",
    "            for xx in df_scaled[y_pred == yi]:\n",
    "                plt.plot(xx.ravel(), \"k-\", alpha=.2)\n",
    "\n",
    "            # add the centroid (in red) to the plot\n",
    "            plt.plot(ks.cluster_centers_[yi].ravel(), \"r-\")\n",
    "            plt.xlim(0, sz)\n",
    "            plt.ylim(-4, 4)\n",
    "            plt.title(\"Cluster %d\" % (yi + 1), fontsize = 20)\n",
    "        fig.suptitle(\"Dataset: {}\".format(dataframe_name), fontsize = 25)\n",
    "\n",
    "    # return the clusterlabels and the cluster centers\n",
    "    return ks, y_pred\n",
    "\n",
    "\n",
    "def divide(data, labels):\n",
    "    clusters = set(labels)\n",
    "    clusters_data = []\n",
    "    for cluster in clusters:\n",
    "        clusters_data.append(data[labels == cluster, :])\n",
    "    return clusters_data\n",
    "\n",
    "def get_centroids(clusters):\n",
    "    centroids = []\n",
    "    for cluster_data in clusters:\n",
    "        centroids.append(cluster_data.mean(axis=0))\n",
    "    return centroids\n",
    "\n",
    "\n",
    "from sklearn.metrics import silhouette_score\n",
    "from sklearn.metrics import calinski_harabaz_score\n",
    "\n",
    "def get_validation_scores(data, labels):\n",
    "    within_cluster_dist_sum_store.clear()\n",
    "    \n",
    "    clusters = divide(data, labels)\n",
    "    centroids = get_centroids(clusters)\n",
    "    \n",
    "    scores = {}\n",
    "\n",
    "    scores['cohesion'] = cohesion(data, labels)\n",
    "    scores['separation'] = separation(data, labels, scores['cohesion'])\n",
    "    scores['calinski_harabaz_score'] = calinski_harabaz_score(data, labels)\n",
    "    scores['RMSSTD'] = RMSSTD(data, clusters, centroids)\n",
    "    scores['RS'] = RS(data, clusters, centroids)\n",
    "    scores['DB'] = DB(data, clusters, centroids)\n",
    "    scores['XB'] = XB(data, clusters, centroids)\n",
    "    \n",
    "    return scores\n",
    "\n",
    "# \"\"\"\n",
    "# Generate elbow plots based on different metrics.\n",
    "# \"\"\"\n",
    "\n",
    "# def generateValidationPlots(dataframe, rangeK, seed=3, max_iter=500):\n",
    "#     # different metrics to plot clusters performance\n",
    "#     metrics = ['distortion', 'silhouette', 'calinski_harabaz']\n",
    "#     # kshape model\n",
    "#     model = KShape(random_state=seed, max_iter=max_iter, verbose=False)\n",
    "    \n",
    "#     # scale the curent dataframe\n",
    "#     df_scaled = TimeSeriesScalerMeanVariance(mu=0.0, std=1.0).fit_transform(dataframe.values)\n",
    "#     # dataframe.values will generate a 3d array (the third dimension being 1) so we convert it to a 2d array\n",
    "#     df_scaled = np.squeeze(df_scaled) # now is a 2d array\n",
    "#     sz = df_scaled.shape[1] # length of each time series\n",
    "    \n",
    "#     # evaluate the range of K with the different metrics and plot them\n",
    "#     for metric in metrics:\n",
    "#         visualizer = KElbowVisualizer(model, k=rangeK, metric=metric)\n",
    "#         visualizer.fit(df_scaled)\n",
    "#         visualizer.poof()\n",
    "        \n",
    "#     return"
   ]
  },
  {
   "cell_type": "code",
   "execution_count": 14,
   "metadata": {
    "ExecuteTime": {
     "end_time": "2018-12-20T05:35:40.816413Z",
     "start_time": "2018-12-20T05:35:40.794260Z"
    }
   },
   "outputs": [],
   "source": [
    "def cohesion(data, labels):\n",
    "    clusters = sorted(set(labels))\n",
    "    sse = 0\n",
    "    for cluster in clusters:\n",
    "        cluster_data = data[labels == cluster, :]\n",
    "        centroid = cluster_data.mean(axis = 0)\n",
    "        sse += ((cluster_data - centroid)**2).sum()\n",
    "    return sse\n",
    "\n",
    "def separation(data, labels, cohesion_score):\n",
    "    # calculate separation as SST - SSE\n",
    "    return cohesion(data, np.zeros(data.shape[0])) - cohesion_score\n",
    "\n",
    "def SST(data):\n",
    "    c = get_centroids([data])\n",
    "    return ((data - c) ** 2).sum()\n",
    "\n",
    "def SSE(clusters, centroids):\n",
    "    result = 0\n",
    "    for cluster, centroid in zip(clusters, centroids):\n",
    "        result += ((cluster - centroid) ** 2).sum()\n",
    "    return result\n",
    "\n",
    "# Clear the store before running each time\n",
    "within_cluster_dist_sum_store = {}\n",
    "def within_cluster_dist_sum(cluster, centroid, cluster_id):\n",
    "    if cluster_id in within_cluster_dist_sum_store:\n",
    "        return within_cluster_dist_sum_store[cluster_id]\n",
    "    else:\n",
    "        result = (((cluster - centroid) ** 2).sum(axis=1)**.5).sum()\n",
    "        within_cluster_dist_sum_store[cluster_id] = result\n",
    "    return result\n",
    "\n",
    "def RMSSTD(data, clusters, centroids):\n",
    "    df = data.shape[0] - len(clusters)\n",
    "    attribute_num = data.shape[1]\n",
    "    return (SSE(clusters, centroids) / (attribute_num * df)) ** .5\n",
    "\n",
    "# equal to separation / (cohesion + separation)\n",
    "def RS(data, clusters, centroids):\n",
    "    sst = SST(data)\n",
    "    sse = SSE(clusters, centroids)\n",
    "    return (sst - sse) / sst\n",
    "\n",
    "def DB_find_max_j(clusters, centroids, i):\n",
    "    max_val = 0\n",
    "    max_j = 0\n",
    "    for j in range(len(clusters)):\n",
    "        if j == i:\n",
    "            continue\n",
    "        cluster_i_stat = within_cluster_dist_sum(clusters[i], centroids[i], i) / clusters[i].shape[0]\n",
    "        cluster_j_stat = within_cluster_dist_sum(clusters[j], centroids[j], j) / clusters[j].shape[0]\n",
    "        val = (cluster_i_stat + cluster_j_stat) / (((centroids[i] - centroids[j]) ** 2).sum() ** .5)\n",
    "        if val > max_val:\n",
    "            max_val = val\n",
    "            max_j = j\n",
    "    return max_val\n",
    "\n",
    "def DB(data, clusters, centroids):\n",
    "    result = 0\n",
    "    for i in range(len(clusters)):\n",
    "        result += DB_find_max_j(clusters, centroids, i)\n",
    "    return result / len(clusters)\n",
    "\n",
    "def XB(data, clusters, centroids):\n",
    "    sse = SSE(clusters, centroids)\n",
    "    min_dist = ((centroids[0] - centroids[1]) ** 2).sum()\n",
    "    for centroid_i, centroid_j in list(product(centroids, centroids)):\n",
    "        if (centroid_i - centroid_j).sum() == 0:\n",
    "            continue\n",
    "        dist = ((centroid_i - centroid_j) ** 2).sum()\n",
    "        if dist < min_dist:\n",
    "            min_dist = dist\n",
    "    return sse / (data.shape[0] * min_dist)"
   ]
  },
  {
   "cell_type": "markdown",
   "metadata": {},
   "source": [
    "Evaluate a range of K for the dataframes and plot the respective elbows with different distance metrics"
   ]
  },
  {
   "cell_type": "code",
   "execution_count": null,
   "metadata": {
    "ExecuteTime": {
     "end_time": "2018-12-20T03:20:11.995210Z",
     "start_time": "2018-12-20T03:18:17.189163Z"
    },
    "scrolled": false
   },
   "outputs": [],
   "source": [
    "# using library (http://www.scikit-yb.org/en/latest/api/cluster/elbow.html)\n",
    "\n",
    "# Instantiate the clustering model and visualizer\n",
    "# rangeK = range(2, 11)\n",
    "# i = 0\n",
    "# for df in dataframes:\n",
    "#     print(\"Current dataframe: {}\".format(dataframes_names[i]))\n",
    "#     generateValidationPlots(df, rangeK)\n",
    "#     i+=1"
   ]
  },
  {
   "cell_type": "code",
   "execution_count": 31,
   "metadata": {
    "ExecuteTime": {
     "end_time": "2018-12-20T05:52:06.186314Z",
     "start_time": "2018-12-20T05:52:02.204227Z"
    },
    "scrolled": true
   },
   "outputs": [
    {
     "name": "stdout",
     "output_type": "stream",
     "text": [
      "{'cohesion': 445184861.95245886, 'separation': 32745763.817924142, 'calinski_harabaz_score': 8.924725470559897, 'RMSSTD': 225.7427864327588, 'RS': 0.06851572603270777, 'DB': 8.655659306617657, 'XB': 71.26139278351492}\n",
      "{'cohesion': 444435722.0842882, 'separation': 25083904.858891904, 'calinski_harabaz_score': 6.848040421396066, 'RMSSTD': 225.5527708461776, 'RS': 0.053424614051176794, 'DB': 5.141655198214018, 'XB': 144.2527354647764}\n",
      "{'cohesion': 398212358.836443, 'separation': 5985591.544183552, 'calinski_harabaz_score': 1.8237800960012358, 'RMSSTD': 213.50156096262063, 'RS': 0.014808564809760012, 'DB': 17.637239540548336, 'XB': 296.2173319464509}\n",
      "{'cohesion': 380755237.0978052, 'separation': 13457680.1105631, 'calinski_harabaz_score': 4.288490420235203, 'RMSSTD': 208.76929762577402, 'RS': 0.034138100308493444, 'DB': 9.770265262597631, 'XB': 152.51060052621855}\n",
      "{'cohesion': 224331360.91847602, 'separation': 15807373.11803034, 'calinski_harabaz_score': 7.398761236938083, 'RMSSTD': 172.25986311080086, 'RS': 0.06582600337864392, 'DB': 5.563325305072877, 'XB': 286.59235001080515}\n",
      "{'cohesion': 240733572.0137486, 'separation': 12816748.845801264, 'calinski_harabaz_score': 4.9513561099464996, 'RMSSTD': 189.60972462483076, 'RS': 0.05054913282046631, 'DB': 3.7610565047790763, 'XB': 39.56947021068063}\n",
      "{'cohesion': 184655394.34601387, 'separation': 13159524.475949824, 'calinski_harabaz_score': 7.5066129697570085, 'RMSSTD': 156.0385253915958, 'RS': 0.06652442876562605, 'DB': 12.144872397071616, 'XB': 2648.2167362992586}\n",
      "{'cohesion': 200645554.7540124, 'separation': 6586412.765612423, 'calinski_harabaz_score': 3.0418860613600476, 'RMSSTD': 173.41503681373013, 'RS': 0.031782802838991, 'DB': 9.132776081229965, 'XB': 688.2900179943706}\n"
     ]
    }
   ],
   "source": [
    "\n",
    "i = 0\n",
    "seed = 3\n",
    "max_iter= 500\n",
    "rangeK = (2, 11)\n",
    "\n",
    "df_scores = []\n",
    "\n",
    "for df in dataframes:\n",
    "    data = df.copy()\n",
    "    model, labels = doKshape(data, dataframes_names[i], 4, seed, max_iter)\n",
    "    print(get_validation_scores(data.values, labels))\n",
    "    i += 1\n"
   ]
  },
  {
   "cell_type": "code",
   "execution_count": null,
   "metadata": {
    "ExecuteTime": {
     "end_time": "2018-12-19T16:00:04.357141Z",
     "start_time": "2018-12-19T16:00:04.354821Z"
    }
   },
   "outputs": [],
   "source": []
  },
  {
   "cell_type": "code",
   "execution_count": null,
   "metadata": {},
   "outputs": [],
   "source": []
  }
 ],
 "metadata": {
  "kernelspec": {
   "display_name": "Python 3",
   "language": "python",
   "name": "python3"
  },
  "language_info": {
   "codemirror_mode": {
    "name": "ipython",
    "version": 3
   },
   "file_extension": ".py",
   "mimetype": "text/x-python",
   "name": "python",
   "nbconvert_exporter": "python",
   "pygments_lexer": "ipython3",
   "version": "3.6.6"
  },
  "toc": {
   "base_numbering": 1,
   "nav_menu": {},
   "number_sections": true,
   "sideBar": true,
   "skip_h1_title": false,
   "title_cell": "Table of Contents",
   "title_sidebar": "Contents",
   "toc_cell": false,
   "toc_position": {},
   "toc_section_display": true,
   "toc_window_display": true
  }
 },
 "nbformat": 4,
 "nbformat_minor": 2
}
