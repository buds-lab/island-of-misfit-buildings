{
 "cells": [
  {
   "cell_type": "markdown",
   "metadata": {},
   "source": [
    "# Experiment 1: k-Shape on Raw Time Series"
   ]
  },
  {
   "cell_type": "markdown",
   "metadata": {},
   "source": [
    "## Select context csv to work with (see above)"
   ]
  },
  {
   "cell_type": "code",
   "execution_count": 1,
   "metadata": {
    "ExecuteTime": {
     "end_time": "2018-12-16T14:35:23.902545Z",
     "start_time": "2018-12-16T14:35:23.843135Z"
    }
   },
   "outputs": [
    {
     "name": "stderr",
     "output_type": "stream",
     "text": [
      "/Users/matias/miniconda3/lib/python3.6/importlib/_bootstrap.py:219: RuntimeWarning: numpy.dtype size changed, may indicate binary incompatibility. Expected 96, got 88\n",
      "  return f(*args, **kwds)\n",
      "/Users/matias/miniconda3/lib/python3.6/importlib/_bootstrap.py:219: RuntimeWarning: numpy.dtype size changed, may indicate binary incompatibility. Expected 96, got 88\n",
      "  return f(*args, **kwds)\n"
     ]
    },
    {
     "name": "stdout",
     "output_type": "stream",
     "text": [
      "              Unnamed: 0    2015-01-01    2015-01-02    2015-01-05  \\\n",
      "0        Office_Cristina     63.025000     75.725000    105.199999   \n",
      "1        PrimClass_Jolie     15.100000     13.000000     50.467501   \n",
      "2       PrimClass_Jaylin     30.900000     29.100000     72.145000   \n",
      "3           Office_Jesus     42.000000     44.600000     41.600000   \n",
      "4        PrimClass_Jayla     36.900000     37.700000    105.599999   \n",
      "5       PrimClass_Janiya     40.900000     51.600000     43.300000   \n",
      "6       PrimClass_Janice    101.800001    186.497500    116.300000   \n",
      "7            Office_Jett     42.600001     58.177501     63.097500   \n",
      "8           UnivLab_Paul   1324.086114   1699.325000   1945.700008   \n",
      "9           Office_Jerry    118.100000    163.200001    128.322500   \n",
      "10           Office_Lesa    333.700000    333.200000    358.200000   \n",
      "11      UnivDorm_Claudia    257.825000    327.425001    354.375001   \n",
      "12       PrimClass_Jaden     63.573001     67.950000    271.868000   \n",
      "13    PrimClass_Jermaine     35.900000     36.700000    187.400001   \n",
      "14   PrimClass_Josephine    104.200001     87.700000    333.500000   \n",
      "15         Office_Jackie     70.100000     73.400000     89.355000   \n",
      "16        UnivDorm_Carla     65.350000     84.450001     82.475000   \n",
      "17      UnivClass_Camden     99.049999    124.975001    210.024999   \n",
      "18      PrimClass_Javier     60.000000     76.397500    171.300002   \n",
      "19    PrimClass_Jeanette    146.000000    159.100000    265.800001   \n",
      "20      PrimClass_Julius    248.000001    260.699999    903.299997   \n",
      "21     PrimClass_Jaylinn     77.600000     98.100000    368.482501   \n",
      "22     PrimClass_Johanna     89.500001     92.600001    290.590002   \n",
      "23       PrimClass_Jodie     68.500001     72.100001    300.617499   \n",
      "24   PrimClass_Johnathan     97.900001    100.500000    230.900002   \n",
      "25       PrimClass_Janis     25.100000     26.400000     61.900000   \n",
      "26       PrimClass_Jamal    105.999999     95.900000    271.799999   \n",
      "27        PrimClass_Jose     47.700001     65.800001     69.400001   \n",
      "28    PrimClass_Julianna     93.600000     97.700000    431.805000   \n",
      "29     PrimClass_Jasmine     95.300002    100.300001    258.100000   \n",
      "..                   ...           ...           ...           ...   \n",
      "338        UnivLab_Anita  12196.280000  17474.800000  17096.160000   \n",
      "339       UnivLab_Parker   3877.250000   4902.508333   5197.925000   \n",
      "340          UnivLab_Lee   3041.415000   3366.900000   3939.700000   \n",
      "341        Office_Shelly    739.333333    788.666667   1438.666667   \n",
      "342        UnivLab_Alisa  15718.380000  22315.300000  22704.590000   \n",
      "343        UnivLab_Louie   2468.800000   2321.600000   2167.800000   \n",
      "344    UnivLab_Priscilla   3551.725000   4508.875000   4716.166667   \n",
      "345      UnivLab_Patrick   7684.808333   9885.359167  10031.541667   \n",
      "346     UnivDorm_Adriana   4022.300000   6157.030000   6467.390000   \n",
      "347        UnivLab_Paris  12637.808333  16240.150000  17119.129167   \n",
      "348       Office_Pauline   2636.666253   3378.535004   3732.362921   \n",
      "349     UnivDorm_Cecilia   2680.424988   3452.874985   3591.200012   \n",
      "350         Office_Luann   8270.750000   8514.900000   9770.200000   \n",
      "351          Office_Lane   5404.925000   5726.600000   6502.600000   \n",
      "352       Office_Cameron   7666.399963   9819.349991  10121.499985   \n",
      "353          UnivLab_Lea   3369.422500   3445.500000   3609.800000   \n",
      "354       UnivLab_Carlos   4182.024994   5602.725037   6449.875015   \n",
      "355        UnivLab_Aoife  38735.860000  55003.230000  56278.830000   \n",
      "356         Office_Gemma  12612.200000  16098.100000  17818.800000   \n",
      "357   UnivClass_Clifford     28.302500     31.629999     33.000000   \n",
      "358      UnivDorm_Payton    636.777500    860.117500   1022.019167   \n",
      "359        Office_Alyson   4213.935000   6573.497500   5278.257500   \n",
      "360    UnivClass_Alfredo   3422.792500   4673.287500   4303.620000   \n",
      "361       UnivLab_Aurora   3271.180000   5153.830000   6920.835000   \n",
      "362      UnivLab_Alfonso   3098.540000   4472.990000   4540.410000   \n",
      "363       UnivLab_Carole  15062.795000  18604.244976  18794.799988   \n",
      "364       Office_Georgia    124.360920    471.606942    832.094779   \n",
      "365    UnivDorm_Lysander   2219.372885   2223.393876   2585.895602   \n",
      "366     PrimClass_Jazmin    223.647499    288.250000    530.907501   \n",
      "367      PrimClass_Jenna     41.000000     41.100000    129.660000   \n",
      "\n",
      "       2015-01-06    2015-01-07    2015-01-08    2015-01-09    2015-01-12  \\\n",
      "0      101.825001    102.122500    103.849999     95.372500     99.775001   \n",
      "1       55.700000     50.072500     49.965000     48.185000     50.240000   \n",
      "2       83.577499     77.092500     84.507500     70.957500     81.080000   \n",
      "3       44.700000     41.300000     45.200000     45.400000     45.000000   \n",
      "4      139.599999    140.457500    146.699999    139.159999     84.999999   \n",
      "5      225.100002    244.152501    247.862501    243.000000    213.897499   \n",
      "6      156.225001    178.400001    161.657500    129.100001    120.000000   \n",
      "7       61.192501     57.362501     48.300001     57.747500     73.117500   \n",
      "8     2242.645831   2375.640271   2335.051114   2357.836114   2327.761110   \n",
      "9      160.397500    174.460000    164.210000    158.772499    131.100000   \n",
      "10     376.200000    378.500000    354.700000    348.200000    353.400000   \n",
      "11     359.599998    363.474998    369.850000    365.075003    359.824999   \n",
      "12     256.375501    261.957999    240.818000    245.248000    249.085501   \n",
      "13     233.800000    245.464999    236.000000    240.400001    229.285000   \n",
      "14     418.000000    434.199998    402.525002    400.500000    423.850003   \n",
      "15     134.815000    110.072500    116.962501    100.067500    105.180000   \n",
      "16      81.550000     82.650000     80.124999     81.600000     82.575000   \n",
      "17     217.945001    211.975000    203.425000    215.575001    216.424998   \n",
      "18     220.462500    206.282500    228.602499    205.075000    203.692501   \n",
      "19     246.699999    272.299998    261.999999    250.500000    260.900000   \n",
      "20     917.800006    935.300002    902.599997    903.299995    926.900007   \n",
      "21     371.017497    363.887501    361.060001    365.052499    360.914999   \n",
      "22     346.307501    338.217500    307.482500    295.957502    320.392499   \n",
      "23     325.209999    304.920000    309.407500    311.499998    315.620001   \n",
      "24     397.099999    389.599999    374.400001    346.615000    390.100000   \n",
      "25      96.395000    107.507499     98.600000     89.730000    100.655000   \n",
      "26     341.680001    355.605001    330.102503    323.310001    326.184998   \n",
      "27     147.035000    135.360001    138.017500    144.417501    132.545000   \n",
      "28     468.764998    479.535003    452.400002    452.055000    399.465000   \n",
      "29     350.400000    365.900000    354.699998    349.000001    364.900001   \n",
      "..            ...           ...           ...           ...           ...   \n",
      "338  16642.020000  16057.710000  15597.560000  15728.070000  15729.810000   \n",
      "339   5370.046667   5389.441667   5562.960833   5391.150000   5393.808333   \n",
      "340   3965.200000   3924.000000   3839.900000   3782.900000   4034.300000   \n",
      "341   1646.000000   1390.333333   1365.000000   1280.666667   1451.666667   \n",
      "342  23208.980000  23031.670000  23429.795000  23322.130000  23058.300000   \n",
      "343   2175.200000   2215.400000   2181.600000   2191.600000   2138.400000   \n",
      "344   5005.016667   5065.908333   5118.150000   5080.885833   4948.600000   \n",
      "345   9898.050000   9806.905833   9702.065833   9640.419167   9330.600000   \n",
      "346   6637.600000   6815.910000   6589.580000   6390.780000   8843.100000   \n",
      "347  17637.041667  17796.200000  17963.008333  17685.291667  17558.300000   \n",
      "348   3738.314725   3693.639309   3859.998753   3848.750697   3815.700976   \n",
      "349   3471.300034   3426.925018   3447.649994   3383.224976   3441.949997   \n",
      "350  10337.400000  10573.000000  10667.100000  10318.100000  10429.200000   \n",
      "351   6354.300000   6335.300000   6273.900000   6081.200000   6304.600000   \n",
      "352  10131.650040  10157.850006  10097.400024  10180.850021  10378.925003   \n",
      "353   3683.400000   3709.700000   3761.500000   3805.100000   3780.400000   \n",
      "354   7185.675079   7233.000000   7214.225037   6730.350037   7440.799988   \n",
      "355  56930.770000  57293.250000  57555.140000  57887.420000  59503.820000   \n",
      "356  18357.400000  18308.300000  18095.700000  17520.500000  17899.900000   \n",
      "357     34.249999     34.049999     33.749999     34.324999     35.025000   \n",
      "358   1108.255833    997.225833   1163.841667   1075.616667    987.071667   \n",
      "359   5169.890000   4056.725000   4120.580000   4177.570000   3432.810000   \n",
      "360   4481.862500   4162.660000   3618.160000   3709.580000   3343.160000   \n",
      "361   6407.500000   6196.940000   4857.170000   5256.760000   4733.960000   \n",
      "362   4743.240000   4771.170000   4723.770000   4781.580000   4634.970000   \n",
      "363  19266.324890  19359.024902  19386.350037  19397.349976  19310.300110   \n",
      "364    761.210919    794.958849    701.852872    646.089553    736.679670   \n",
      "365   2694.995602   2546.575099   2589.338492   2623.738492   2939.838492   \n",
      "366    521.239996    500.019998    457.239999    460.440000    505.469999   \n",
      "367    121.600000    141.325001    145.052500    131.899999    155.275000   \n",
      "\n",
      "       2015-01-13      ...         2015-11-17    2015-11-18    2015-11-19  \\\n",
      "0      105.375000      ...          86.825001     87.225001     84.475000   \n",
      "1       56.690000      ...          56.515001     50.200000     51.700000   \n",
      "2       79.962500      ...          81.747499     74.267500     83.339999   \n",
      "3       41.200000      ...          36.100000     35.700000     36.300000   \n",
      "4      154.967501      ...         131.770000    129.222499    145.735000   \n",
      "5      229.045000      ...         206.039999    228.400002    231.005000   \n",
      "6      203.242501      ...         183.199999    138.500000    142.200000   \n",
      "7       69.200000      ...          72.385000     74.500000     76.700000   \n",
      "8     2260.965276      ...        2345.700005   2321.816667   2240.945831   \n",
      "9      155.322500      ...          43.200000     42.700000     42.500000   \n",
      "10     374.600000      ...         345.000000    331.300000    329.300000   \n",
      "11     368.775000      ...         597.750000    561.999992    567.075001   \n",
      "12     271.421000      ...         256.925501    268.285999    266.447001   \n",
      "13     231.002500      ...         231.499999    247.967500    233.817501   \n",
      "14     423.200001      ...         361.100000    360.000000    374.500000   \n",
      "15     126.797500      ...         122.800000    116.500001     96.600000   \n",
      "16      79.525000      ...         273.100000    272.775001    242.000000   \n",
      "17     221.675003      ...         187.600001    192.500000    203.700004   \n",
      "18     217.892500      ...         224.064999    225.700000    228.822501   \n",
      "19     279.907498      ...         216.000000    198.199999    228.300000   \n",
      "20     915.700009      ...        1169.499995   1192.300000   1140.282496   \n",
      "21     361.507502      ...         363.207500    364.200001    377.700002   \n",
      "22     361.199999      ...         332.200000    339.600001    350.500000   \n",
      "23     318.600000      ...         319.300001    276.000001    328.400001   \n",
      "24     381.000001      ...         255.400000    246.999999    251.699999   \n",
      "25      93.372501      ...          82.100001     80.700000     88.795000   \n",
      "26     349.600000      ...         319.200000    316.699999    322.299999   \n",
      "27     139.875000      ...         135.400000    136.500001    145.057500   \n",
      "28     450.304999      ...         438.199999    445.200000    459.167501   \n",
      "29     346.100002      ...         346.300000    357.700000    368.700001   \n",
      "..            ...      ...                ...           ...           ...   \n",
      "338  16089.420000      ...       17000.155000  16772.250000  16843.000000   \n",
      "339   5564.500000      ...        4882.891667   4985.650000   4796.466667   \n",
      "340   3996.200000      ...        4310.400000   4335.400000   4299.800000   \n",
      "341   1556.333333      ...        1943.333333   1636.000000   1826.333333   \n",
      "342  23127.530000      ...       23229.640000  23346.230000  23134.450000   \n",
      "343   2359.600000      ...        3220.000000   3234.800000   3141.400000   \n",
      "344   5077.153333      ...        4616.933333   4642.400000   4626.208333   \n",
      "345   9805.496667      ...       12260.196667  12343.983333  12193.149167   \n",
      "346   8790.840000      ...        8522.480000   8567.460000   8614.270000   \n",
      "347  17866.341667      ...       16587.133333  16498.041667  16330.316667   \n",
      "348   3816.427364      ...        5865.608333   5587.283333   6969.383333   \n",
      "349   3463.725052      ...        5143.924988   5173.374985   5142.099991   \n",
      "350  10686.200000      ...       11045.700000  10829.700000  10644.600000   \n",
      "351   6590.900000      ...        6100.500000   6242.000000   6264.100000   \n",
      "352  10356.300034      ...       11064.875015  11090.350006  11210.649948   \n",
      "353   3772.800000      ...        3682.300000   3847.700000   3813.300000   \n",
      "354   7110.849991      ...        7920.425049   7628.775085   7620.000031   \n",
      "355  59389.170000      ...       56718.690000  56547.410000  56841.830000   \n",
      "356  18239.100000      ...       21981.000000  21797.600000  21698.400000   \n",
      "357     36.175000      ...          34.925000     35.525000     35.225000   \n",
      "358   1038.064167      ...        1551.466667   1557.133333   1579.225000   \n",
      "359   4337.140000      ...        4838.240000   4559.815000   4356.067500   \n",
      "360   3657.720000      ...        3930.090000   3828.610000   3788.040000   \n",
      "361   5588.850000      ...        5326.335000   4923.777500   5329.722500   \n",
      "362   4754.960000      ...        4879.260000   4794.930000   4830.280000   \n",
      "363  19297.850037      ...       20043.899963  20277.599976  20609.299988   \n",
      "364    704.752899      ...         623.515234    628.394795    603.301286   \n",
      "365   2958.158555      ...        2647.400000   2687.500000   2568.000000   \n",
      "366    484.150003      ...         360.819999    385.559999    398.190000   \n",
      "367    187.977501      ...         138.299998    135.000001    145.100000   \n",
      "\n",
      "       2015-11-20    2015-11-23    2015-11-24    2015-11-25    2015-11-26  \\\n",
      "0       85.725000     99.600000    100.075000     95.400000     63.075000   \n",
      "1       55.400000     52.500000     60.057500     54.057500     53.800000   \n",
      "2       74.412501     77.809999     89.057500     79.812500     76.702500   \n",
      "3       35.900000     31.300000     35.800000     36.200000     35.800000   \n",
      "4      137.200000    137.000000    147.550000    143.090000    146.270001   \n",
      "5      214.309999    239.000000    221.487501    216.900002    239.200001   \n",
      "6      158.300000    116.399999    183.799999    162.799999    133.699999   \n",
      "7       75.785000     73.685000     88.400000     83.100000     74.300000   \n",
      "8     2279.072220   2379.600006   2345.354169   2313.251392   2203.990281   \n",
      "9       43.500000     45.200000     44.100000     43.600000     44.300000   \n",
      "10     330.300000    370.500000    365.200000    340.100000    340.500000   \n",
      "11     602.600002    557.150000    573.800001    434.100000    379.475002   \n",
      "12     238.934999    248.256000    265.388500    266.625501    282.958500   \n",
      "13     219.800000    224.765001    240.805000    239.767500    231.712500   \n",
      "14     364.000000    389.699999    382.699999    365.000001    364.199999   \n",
      "15     105.200000    113.287500    122.912500    110.417500    108.400000   \n",
      "16     277.324998    288.825001    283.100000    270.825002    245.099998   \n",
      "17     169.175000    179.500000    192.199999    159.875000    134.349999   \n",
      "18     227.130000    231.300001    231.217499    234.395000    210.020000   \n",
      "19     249.099997    271.600001    250.100002    217.600000    236.500001   \n",
      "20    1033.399989   1132.999995   1226.572492   1097.000002   1128.400001   \n",
      "21     337.552498    371.700000    382.925000    370.050000    359.500000   \n",
      "22     331.149999    391.580000    359.407499    360.977500    358.900000   \n",
      "23     293.900000    326.400001    338.899999    337.700001    313.900000   \n",
      "24     245.099999    243.099999    244.899998    237.899999    256.299998   \n",
      "25      79.200000     78.100000     82.172500     87.415001     88.655000   \n",
      "26     304.699999    345.877499    346.595003    317.699998    349.899998   \n",
      "27     139.600000    155.500001    138.500000    134.552500    131.500000   \n",
      "28     441.399999    491.300000    504.989999    504.380000    494.700001   \n",
      "29     351.200001    369.000002    372.899999    370.499997    358.100002   \n",
      "..            ...           ...           ...           ...           ...   \n",
      "338  16809.700000  16407.260000  16596.870000  16276.970000  15824.690000   \n",
      "339   4879.325000   4928.100000   5094.500000   4989.483333   4476.058333   \n",
      "340   4356.600000   4207.200000   4368.000000   4378.200000   4406.600000   \n",
      "341   2136.666667   2426.376667   2541.731667   2301.333333   2157.666667   \n",
      "342  22950.370000  22971.270000  23155.370000  22994.500000  22787.590000   \n",
      "343   2709.200000   2255.200000   2360.000000   2281.000000   2594.400000   \n",
      "344   4483.391667   4488.991667   4517.600000   4469.175000   4177.550000   \n",
      "345  11915.633333  12143.760833  12379.258333  12177.484167  11936.950000   \n",
      "346   8469.140000   8778.020000   9201.160000   8950.840000   6651.010000   \n",
      "347  16217.933333  16616.850000  16598.250000  16173.758333  15314.791667   \n",
      "348   7174.266666   5994.458333   6046.800000   5830.183333   5473.441666   \n",
      "349   5102.150009   4990.275040   4855.000031   4508.850006   4372.599976   \n",
      "350  10378.200000  10533.800000  10676.500000  10633.300000  10807.100000   \n",
      "351   6140.800000   7000.100000   6409.100000   6401.500000   6281.500000   \n",
      "352  11138.074966  11108.650040  10786.099976  10521.875000  10073.800003   \n",
      "353   3947.000000   4056.000000   3957.300000   4067.400000   3858.100000   \n",
      "354   7662.600037   7485.799896   7609.024994   7126.775055   6278.800018   \n",
      "355  55827.120000  55449.890000  55451.530000  56131.550000  55525.920000   \n",
      "356  20908.600000  22164.800000  21969.400000  21846.300000  21834.100000   \n",
      "357     34.975000     35.849999     35.050000     33.149999     28.175000   \n",
      "358   1621.925000   1617.941667   1615.216667   1498.616667   1287.975000   \n",
      "359   3946.010000   3422.380000   3629.360000   3411.960000   3124.000000   \n",
      "360   3607.550000   3090.070000   3318.180000   3200.740000   3189.800000   \n",
      "361   4626.517500   4274.410000   4545.577500   4155.260000   4655.802500   \n",
      "362   4790.840000   4953.400000   4973.550000   4782.590000   4470.640000   \n",
      "363  20049.125061  19914.474976  19996.925171  19927.250122  19312.999939   \n",
      "364    463.949565    612.110266    612.073574    607.204817    604.152019   \n",
      "365   2628.100000   2744.500000   2563.900000   2669.500000   2590.400000   \n",
      "366    396.129999    496.519999    511.020000    442.919998    430.430000   \n",
      "367    123.800000    143.400001    125.100001    129.500001    150.299999   \n",
      "\n",
      "       2015-11-27    2015-11-30  \n",
      "0       54.650000     96.550000  \n",
      "1       48.700000     47.900000  \n",
      "2       78.267500     81.662500  \n",
      "3       35.800000     35.200000  \n",
      "4      144.499999    145.672499  \n",
      "5      215.777500    222.375000  \n",
      "6      159.347500    111.600001  \n",
      "7       76.900000     79.900000  \n",
      "8     2027.591667   2119.081946  \n",
      "9       50.300000     57.700000  \n",
      "10     350.300000    382.400000  \n",
      "11     375.750002    558.600002  \n",
      "12     249.803000    271.164502  \n",
      "13     230.140001    246.224999  \n",
      "14     358.900000    370.500001  \n",
      "15      73.700000     99.730000  \n",
      "16     226.725000    268.475000  \n",
      "17     136.750000    195.550001  \n",
      "18     210.299999    228.987498  \n",
      "19     202.600000    251.799999  \n",
      "20    1077.369990   1139.859996  \n",
      "21     346.900001    381.095003  \n",
      "22     334.175000    367.494999  \n",
      "23     294.700000    303.499999  \n",
      "24     254.099998    250.099999  \n",
      "25      84.600000     87.500000  \n",
      "26     321.200000    356.000001  \n",
      "27     131.587500    148.660001  \n",
      "28     473.400000    472.475000  \n",
      "29     354.600004    370.800001  \n",
      "..            ...           ...  \n",
      "338  15977.650000  16838.780000  \n",
      "339   4308.925000   4826.558333  \n",
      "340   4395.500000   4467.400000  \n",
      "341   2363.333333   2268.666667  \n",
      "342  22487.900000  22865.940000  \n",
      "343   2765.600000   2680.600000  \n",
      "344   4144.275000   4531.683333  \n",
      "345  11740.765000  12399.064167  \n",
      "346   6209.080000   7943.000000  \n",
      "347  15162.741667  16346.466667  \n",
      "348   5145.816666   5765.575000  \n",
      "349   4389.099976   4807.574951  \n",
      "350  10901.300000  10802.500000  \n",
      "351   5989.900000   5985.900000  \n",
      "352   9818.249939  10660.424988  \n",
      "353   3502.600000   3725.500000  \n",
      "354   6203.399918   7258.575073  \n",
      "355  54478.300000  55286.230000  \n",
      "356  21139.800000  21652.900000  \n",
      "357     28.000000     34.600000  \n",
      "358   1270.358333   1531.350000  \n",
      "359   3744.400000   5185.660000  \n",
      "360   3355.540000   3974.870000  \n",
      "361   5838.410000   6231.897500  \n",
      "362   4416.120000   4610.020000  \n",
      "363  19607.774780  19772.924683  \n",
      "364    487.566403    463.980000  \n",
      "365   2556.500000   2720.900000  \n",
      "366    428.479999    537.880001  \n",
      "367    143.400000    137.414999  \n",
      "\n",
      "[368 rows x 239 columns]\n"
     ]
    }
   ],
   "source": [
    "import pandas as pd\n",
    "df_weekday = pd.read_csv('data/weekdayContext.csv')\n",
    "print(df_weekday)\n",
    "# in this notebook we use Week Day Context"
   ]
  },
  {
   "cell_type": "markdown",
   "metadata": {},
   "source": [
    "## Download k-Shape library "
   ]
  },
  {
   "cell_type": "markdown",
   "metadata": {},
   "source": [
    "First from: https://github.com/Mic92/kshape"
   ]
  },
  {
   "cell_type": "code",
   "execution_count": 2,
   "metadata": {
    "ExecuteTime": {
     "end_time": "2018-12-16T14:22:09.602869Z",
     "start_time": "2018-12-16T14:22:09.595437Z"
    }
   },
   "outputs": [],
   "source": [
    "from kshape.core import kshape, zscore\n"
   ]
  },
  {
   "cell_type": "markdown",
   "metadata": {},
   "source": [
    "Also from: https://tslearn.readthedocs.io/en/latest/auto_examples/plot_kshape.html#"
   ]
  },
  {
   "cell_type": "code",
   "execution_count": 7,
   "metadata": {
    "ExecuteTime": {
     "end_time": "2018-12-16T14:27:11.282075Z",
     "start_time": "2018-12-16T14:27:11.276912Z"
    }
   },
   "outputs": [],
   "source": [
    "import numpy as np\n",
    "import matplotlib.pyplot as plt\n",
    "import matplotlib.cm as cm\n",
    "import plotly.plotly as py\n",
    "\n",
    "from scipy.spatial.distance import cdist\n",
    "from collections import Counter\n",
    "\n",
    "from tslearn.preprocessing import TimeSeriesScalerMeanVariance\n",
    "from tslearn.utils import to_time_series_dataset\n",
    "from tslearn.clustering import KShape\n",
    "\n",
    "from sklearn.metrics import silhouette_samples, silhouette_score\n",
    "from sklearn.metrics.pairwise import pairwise_distances\n",
    "\n",
    "from yellowbrick.cluster import SilhouetteVisualizer\n",
    "from yellowbrick.cluster import KElbowVisualizer\n"
   ]
  },
  {
   "cell_type": "code",
   "execution_count": 8,
   "metadata": {
    "ExecuteTime": {
     "end_time": "2018-12-16T14:22:11.162948Z",
     "start_time": "2018-12-16T14:22:11.153429Z"
    }
   },
   "outputs": [],
   "source": [
    "\"\"\"\n",
    "Function to calculate average and sample silhouette score of dataset X for each cluster in rangeK.\n",
    "Additionally, a plot of each cluster with their instances sorted by their silhouette score, \n",
    "in descending order, with a dashed red line of overall average.\n",
    "\"\"\"\n",
    "def plotSilhouettes(X, rangeK, seed):\n",
    "    for k in rangeK:\n",
    "        fig = plt.figure(figsize=(18,8))\n",
    "        ax = fig.add_subplot(1, 1, 1)\n",
    "\n",
    "        # The (k+1)*10 is for inserting blank space between silhouette\n",
    "        # plots of individual clusters, to demarcate them clearly.\n",
    "        ax.set_ylim([0, len(X) + (k + 1) * 10])\n",
    "\n",
    "        # Initialize the clusterer with n_clusters value and a random generator\n",
    "        # seed for reproducibility.\n",
    "        sz = X.shape[1]\n",
    "        ks_clusterer = KShape(n_clusters=k, verbose=True, random_state=seed)\n",
    "        cluster_labels = ks_clusterer.fit_predict(X)\n",
    "\n",
    "        # The silhouette_score gives the average value for all the samples.\n",
    "        # This gives a perspective into the density and separation of the formed\n",
    "        # clusters\n",
    "        silhouette_avg = silhouette_score(X, cluster_labels)\n",
    "        print(\"For k = {}. The average silhouette_score is : {}.\".format(k, silhouette_avg))\n",
    "\n",
    "        # Compute the silhouette scores for each sample\n",
    "        sample_silhouette_values = silhouette_samples(X, cluster_labels)\n",
    "\n",
    "        y_lower = 10\n",
    "        for i in range(k):\n",
    "            # Aggregate the silhouette scores for samples belonging to\n",
    "            # cluster i, and sort them\n",
    "            ith_cluster_silhouette_values = sample_silhouette_values[cluster_labels == i]\n",
    "            ith_cluster_silhouette_values.sort()\n",
    "\n",
    "            size_cluster_i = ith_cluster_silhouette_values.shape[0]\n",
    "            y_upper = y_lower + size_cluster_i\n",
    "\n",
    "            color = cm.nipy_spectral(float(i) / k)\n",
    "            ax.fill_betweenx(np.arange(y_lower, y_upper),\n",
    "                              0, ith_cluster_silhouette_values,\n",
    "                              facecolor=color, edgecolor=color, alpha=0.7)\n",
    "\n",
    "            # Label the silhouette plots with their cluster numbers at the middle\n",
    "            ax.text(-0.05, y_lower + 0.5 * size_cluster_i, str(i), fontsize = 20)\n",
    "\n",
    "            # Compute the new y_lower for next plot\n",
    "            y_lower = y_upper + 10  # 10 for the 0 samples\n",
    "\n",
    "        ax.set_xlabel(\"Silhouette Coefficient Values\", fontsize = 20)\n",
    "        ax.set_ylabel(\"Cluster Label\", fontsize = 20)\n",
    "\n",
    "        # The vertical line for average silhouette score of all the values\n",
    "        ax.axvline(x=silhouette_avg, color=\"red\", linestyle=\"--\")\n",
    "\n",
    "        ax.set_yticks([]) # Clear the yaxis labels/ticks\n",
    "\n",
    "        plt.suptitle((\"Silhouette Analysis for KMeans clustering \"\n",
    "                      \"with num. clusters = %d\" % k),\n",
    "                     fontsize=19, fontweight='bold')\n",
    "    # plot all genereated figures\n",
    "    plt.show()\n"
   ]
  },
  {
   "cell_type": "markdown",
   "metadata": {},
   "source": [
    "## Run k-Shape algorithm\n"
   ]
  },
  {
   "cell_type": "markdown",
   "metadata": {},
   "source": [
    "Observations from the github repo:\n",
    "- If the data is available from different sources with same frequency but at different points in time, it needs to be aligned.\n",
    "- kshape also expect no time series with a constant observation value or 'N/A'\n",
    "\n",
    "Distance measure: normalized cross-correlation measure (consider the shape while comparing them)"
   ]
  },
  {
   "cell_type": "code",
   "execution_count": 16,
   "metadata": {
    "ExecuteTime": {
     "end_time": "2018-12-16T14:37:51.997858Z",
     "start_time": "2018-12-16T14:37:47.013098Z"
    }
   },
   "outputs": [
    {
     "name": "stdout",
     "output_type": "stream",
     "text": [
      "Shape of X matrix: (368, 238)\n",
      "0.146 --> 0.125 --> 0.119 --> 0.113 --> 0.108 --> 0.102 --> 0.108 --> \n"
     ]
    },
    {
     "name": "stderr",
     "output_type": "stream",
     "text": [
      "/Users/matias/miniconda3/lib/python3.6/site-packages/matplotlib-3.0.0rc2-py3.6-macosx-10.7-x86_64.egg/matplotlib/font_manager.py:1238: UserWarning:\n",
      "\n",
      "findfont: Font family ['sans-serif'] not found. Falling back to DejaVu Sans.\n",
      "\n"
     ]
    },
    {
     "ename": "IndexError",
     "evalue": "list index out of range",
     "output_type": "error",
     "traceback": [
      "\u001b[0;31m---------------------------------------------------------------------------\u001b[0m",
      "\u001b[0;31mIndexError\u001b[0m                                Traceback (most recent call last)",
      "\u001b[0;32m~/miniconda3/lib/python3.6/site-packages/IPython/core/formatters.py\u001b[0m in \u001b[0;36m__call__\u001b[0;34m(self, obj)\u001b[0m\n\u001b[1;32m    339\u001b[0m                 \u001b[0;32mpass\u001b[0m\u001b[0;34m\u001b[0m\u001b[0m\n\u001b[1;32m    340\u001b[0m             \u001b[0;32melse\u001b[0m\u001b[0;34m:\u001b[0m\u001b[0;34m\u001b[0m\u001b[0m\n\u001b[0;32m--> 341\u001b[0;31m                 \u001b[0;32mreturn\u001b[0m \u001b[0mprinter\u001b[0m\u001b[0;34m(\u001b[0m\u001b[0mobj\u001b[0m\u001b[0;34m)\u001b[0m\u001b[0;34m\u001b[0m\u001b[0m\n\u001b[0m\u001b[1;32m    342\u001b[0m             \u001b[0;31m# Finally look for special method names\u001b[0m\u001b[0;34m\u001b[0m\u001b[0;34m\u001b[0m\u001b[0m\n\u001b[1;32m    343\u001b[0m             \u001b[0mmethod\u001b[0m \u001b[0;34m=\u001b[0m \u001b[0mget_real_method\u001b[0m\u001b[0;34m(\u001b[0m\u001b[0mobj\u001b[0m\u001b[0;34m,\u001b[0m \u001b[0mself\u001b[0m\u001b[0;34m.\u001b[0m\u001b[0mprint_method\u001b[0m\u001b[0;34m)\u001b[0m\u001b[0;34m\u001b[0m\u001b[0m\n",
      "\u001b[0;32m~/miniconda3/lib/python3.6/site-packages/IPython/core/pylabtools.py\u001b[0m in \u001b[0;36m<lambda>\u001b[0;34m(fig)\u001b[0m\n\u001b[1;32m    242\u001b[0m \u001b[0;34m\u001b[0m\u001b[0m\n\u001b[1;32m    243\u001b[0m     \u001b[0;32mif\u001b[0m \u001b[0;34m'png'\u001b[0m \u001b[0;32min\u001b[0m \u001b[0mformats\u001b[0m\u001b[0;34m:\u001b[0m\u001b[0;34m\u001b[0m\u001b[0m\n\u001b[0;32m--> 244\u001b[0;31m         \u001b[0mpng_formatter\u001b[0m\u001b[0;34m.\u001b[0m\u001b[0mfor_type\u001b[0m\u001b[0;34m(\u001b[0m\u001b[0mFigure\u001b[0m\u001b[0;34m,\u001b[0m \u001b[0;32mlambda\u001b[0m \u001b[0mfig\u001b[0m\u001b[0;34m:\u001b[0m \u001b[0mprint_figure\u001b[0m\u001b[0;34m(\u001b[0m\u001b[0mfig\u001b[0m\u001b[0;34m,\u001b[0m \u001b[0;34m'png'\u001b[0m\u001b[0;34m,\u001b[0m \u001b[0;34m**\u001b[0m\u001b[0mkwargs\u001b[0m\u001b[0;34m)\u001b[0m\u001b[0;34m)\u001b[0m\u001b[0;34m\u001b[0m\u001b[0m\n\u001b[0m\u001b[1;32m    245\u001b[0m     \u001b[0;32mif\u001b[0m \u001b[0;34m'retina'\u001b[0m \u001b[0;32min\u001b[0m \u001b[0mformats\u001b[0m \u001b[0;32mor\u001b[0m \u001b[0;34m'png2x'\u001b[0m \u001b[0;32min\u001b[0m \u001b[0mformats\u001b[0m\u001b[0;34m:\u001b[0m\u001b[0;34m\u001b[0m\u001b[0m\n\u001b[1;32m    246\u001b[0m         \u001b[0mpng_formatter\u001b[0m\u001b[0;34m.\u001b[0m\u001b[0mfor_type\u001b[0m\u001b[0;34m(\u001b[0m\u001b[0mFigure\u001b[0m\u001b[0;34m,\u001b[0m \u001b[0;32mlambda\u001b[0m \u001b[0mfig\u001b[0m\u001b[0;34m:\u001b[0m \u001b[0mretina_figure\u001b[0m\u001b[0;34m(\u001b[0m\u001b[0mfig\u001b[0m\u001b[0;34m,\u001b[0m \u001b[0;34m**\u001b[0m\u001b[0mkwargs\u001b[0m\u001b[0;34m)\u001b[0m\u001b[0;34m)\u001b[0m\u001b[0;34m\u001b[0m\u001b[0m\n",
      "\u001b[0;32m~/miniconda3/lib/python3.6/site-packages/IPython/core/pylabtools.py\u001b[0m in \u001b[0;36mprint_figure\u001b[0;34m(fig, fmt, bbox_inches, **kwargs)\u001b[0m\n\u001b[1;32m    126\u001b[0m \u001b[0;34m\u001b[0m\u001b[0m\n\u001b[1;32m    127\u001b[0m     \u001b[0mbytes_io\u001b[0m \u001b[0;34m=\u001b[0m \u001b[0mBytesIO\u001b[0m\u001b[0;34m(\u001b[0m\u001b[0;34m)\u001b[0m\u001b[0;34m\u001b[0m\u001b[0m\n\u001b[0;32m--> 128\u001b[0;31m     \u001b[0mfig\u001b[0m\u001b[0;34m.\u001b[0m\u001b[0mcanvas\u001b[0m\u001b[0;34m.\u001b[0m\u001b[0mprint_figure\u001b[0m\u001b[0;34m(\u001b[0m\u001b[0mbytes_io\u001b[0m\u001b[0;34m,\u001b[0m \u001b[0;34m**\u001b[0m\u001b[0mkw\u001b[0m\u001b[0;34m)\u001b[0m\u001b[0;34m\u001b[0m\u001b[0m\n\u001b[0m\u001b[1;32m    129\u001b[0m     \u001b[0mdata\u001b[0m \u001b[0;34m=\u001b[0m \u001b[0mbytes_io\u001b[0m\u001b[0;34m.\u001b[0m\u001b[0mgetvalue\u001b[0m\u001b[0;34m(\u001b[0m\u001b[0;34m)\u001b[0m\u001b[0;34m\u001b[0m\u001b[0m\n\u001b[1;32m    130\u001b[0m     \u001b[0;32mif\u001b[0m \u001b[0mfmt\u001b[0m \u001b[0;34m==\u001b[0m \u001b[0;34m'svg'\u001b[0m\u001b[0;34m:\u001b[0m\u001b[0;34m\u001b[0m\u001b[0m\n",
      "\u001b[0;32m~/miniconda3/lib/python3.6/site-packages/matplotlib-3.0.0rc2-py3.6-macosx-10.7-x86_64.egg/matplotlib/backend_bases.py\u001b[0m in \u001b[0;36mprint_figure\u001b[0;34m(self, filename, dpi, facecolor, edgecolor, orientation, format, bbox_inches, **kwargs)\u001b[0m\n",
      "\u001b[0;32m~/miniconda3/lib/python3.6/site-packages/matplotlib-3.0.0rc2-py3.6-macosx-10.7-x86_64.egg/matplotlib/backends/backend_agg.py\u001b[0m in \u001b[0;36mprint_png\u001b[0;34m(self, filename_or_obj, *args, **kwargs)\u001b[0m\n",
      "\u001b[0;32m~/miniconda3/lib/python3.6/site-packages/matplotlib-3.0.0rc2-py3.6-macosx-10.7-x86_64.egg/matplotlib/backends/backend_agg.py\u001b[0m in \u001b[0;36mdraw\u001b[0;34m(self)\u001b[0m\n",
      "\u001b[0;32m~/miniconda3/lib/python3.6/site-packages/matplotlib-3.0.0rc2-py3.6-macosx-10.7-x86_64.egg/matplotlib/artist.py\u001b[0m in \u001b[0;36mdraw_wrapper\u001b[0;34m(artist, renderer, *args, **kwargs)\u001b[0m\n",
      "\u001b[0;32m~/miniconda3/lib/python3.6/site-packages/matplotlib-3.0.0rc2-py3.6-macosx-10.7-x86_64.egg/matplotlib/figure.py\u001b[0m in \u001b[0;36mdraw\u001b[0;34m(self, renderer)\u001b[0m\n",
      "\u001b[0;32m~/miniconda3/lib/python3.6/site-packages/matplotlib-3.0.0rc2-py3.6-macosx-10.7-x86_64.egg/matplotlib/image.py\u001b[0m in \u001b[0;36m_draw_list_compositing_images\u001b[0;34m(renderer, parent, artists, suppress_composite)\u001b[0m\n",
      "\u001b[0;32m~/miniconda3/lib/python3.6/site-packages/matplotlib-3.0.0rc2-py3.6-macosx-10.7-x86_64.egg/matplotlib/artist.py\u001b[0m in \u001b[0;36mdraw_wrapper\u001b[0;34m(artist, renderer, *args, **kwargs)\u001b[0m\n",
      "\u001b[0;32m~/miniconda3/lib/python3.6/site-packages/matplotlib-3.0.0rc2-py3.6-macosx-10.7-x86_64.egg/matplotlib/axes/_base.py\u001b[0m in \u001b[0;36mdraw\u001b[0;34m(self, renderer, inframe)\u001b[0m\n",
      "\u001b[0;32m~/miniconda3/lib/python3.6/site-packages/matplotlib-3.0.0rc2-py3.6-macosx-10.7-x86_64.egg/matplotlib/image.py\u001b[0m in \u001b[0;36m_draw_list_compositing_images\u001b[0;34m(renderer, parent, artists, suppress_composite)\u001b[0m\n",
      "\u001b[0;32m~/miniconda3/lib/python3.6/site-packages/matplotlib-3.0.0rc2-py3.6-macosx-10.7-x86_64.egg/matplotlib/artist.py\u001b[0m in \u001b[0;36mdraw_wrapper\u001b[0;34m(artist, renderer, *args, **kwargs)\u001b[0m\n",
      "\u001b[0;32m~/miniconda3/lib/python3.6/site-packages/matplotlib-3.0.0rc2-py3.6-macosx-10.7-x86_64.egg/matplotlib/axis.py\u001b[0m in \u001b[0;36mdraw\u001b[0;34m(self, renderer, *args, **kwargs)\u001b[0m\n",
      "\u001b[0;32m~/miniconda3/lib/python3.6/site-packages/matplotlib-3.0.0rc2-py3.6-macosx-10.7-x86_64.egg/matplotlib/axis.py\u001b[0m in \u001b[0;36m_get_tick_bboxes\u001b[0;34m(self, ticks, renderer)\u001b[0m\n",
      "\u001b[0;32m~/miniconda3/lib/python3.6/site-packages/matplotlib-3.0.0rc2-py3.6-macosx-10.7-x86_64.egg/matplotlib/text.py\u001b[0m in \u001b[0;36mget_window_extent\u001b[0;34m(self, renderer, dpi)\u001b[0m\n",
      "\u001b[0;32m~/miniconda3/lib/python3.6/site-packages/matplotlib-3.0.0rc2-py3.6-macosx-10.7-x86_64.egg/matplotlib/text.py\u001b[0m in \u001b[0;36m_get_layout\u001b[0;34m(self, renderer)\u001b[0m\n",
      "\u001b[0;32m~/miniconda3/lib/python3.6/site-packages/matplotlib-3.0.0rc2-py3.6-macosx-10.7-x86_64.egg/matplotlib/backends/backend_agg.py\u001b[0m in \u001b[0;36mget_text_width_height_descent\u001b[0;34m(self, s, prop, ismath)\u001b[0m\n",
      "\u001b[0;32m~/miniconda3/lib/python3.6/site-packages/matplotlib-3.0.0rc2-py3.6-macosx-10.7-x86_64.egg/matplotlib/backends/backend_agg.py\u001b[0m in \u001b[0;36m_get_agg_font\u001b[0;34m(self, prop)\u001b[0m\n",
      "\u001b[0;32m~/miniconda3/lib/python3.6/site-packages/matplotlib-3.0.0rc2-py3.6-macosx-10.7-x86_64.egg/matplotlib/font_manager.py\u001b[0m in \u001b[0;36mfindfont\u001b[0;34m(prop, **kw)\u001b[0m\n",
      "\u001b[0;32m~/miniconda3/lib/python3.6/site-packages/matplotlib-3.0.0rc2-py3.6-macosx-10.7-x86_64.egg/matplotlib/font_manager.py\u001b[0m in \u001b[0;36mfindfont\u001b[0;34m(self, prop, fontext, directory, fallback_to_default, rebuild_if_missing)\u001b[0m\n",
      "\u001b[0;32m~/miniconda3/lib/python3.6/site-packages/matplotlib-3.0.0rc2-py3.6-macosx-10.7-x86_64.egg/matplotlib/font_manager.py\u001b[0m in \u001b[0;36m_findfont_cached\u001b[0;34m(self, prop, fontext, directory, fallback_to_default, rebuild_if_missing, rc_params)\u001b[0m\n",
      "\u001b[0;32m~/miniconda3/lib/python3.6/site-packages/matplotlib-3.0.0rc2-py3.6-macosx-10.7-x86_64.egg/matplotlib/font_manager.py\u001b[0m in \u001b[0;36mfindfont\u001b[0;34m(self, prop, fontext, directory, fallback_to_default, rebuild_if_missing)\u001b[0m\n",
      "\u001b[0;32m~/miniconda3/lib/python3.6/site-packages/matplotlib-3.0.0rc2-py3.6-macosx-10.7-x86_64.egg/matplotlib/font_manager.py\u001b[0m in \u001b[0;36m_findfont_cached\u001b[0;34m(self, prop, fontext, directory, fallback_to_default, rebuild_if_missing, rc_params)\u001b[0m\n",
      "\u001b[0;32m~/miniconda3/lib/python3.6/site-packages/matplotlib-3.0.0rc2-py3.6-macosx-10.7-x86_64.egg/matplotlib/font_manager.py\u001b[0m in \u001b[0;36m_rebuild\u001b[0;34m()\u001b[0m\n",
      "\u001b[0;32m~/miniconda3/lib/python3.6/site-packages/matplotlib-3.0.0rc2-py3.6-macosx-10.7-x86_64.egg/matplotlib/font_manager.py\u001b[0m in \u001b[0;36m__init__\u001b[0;34m(self, size, weight)\u001b[0m\n",
      "\u001b[0;31mIndexError\u001b[0m: list index out of range"
     ]
    },
    {
     "data": {
      "text/plain": [
       "<Figure size 1296x720 with 5 Axes>"
      ]
     },
     "metadata": {},
     "output_type": "display_data"
    }
   ],
   "source": [
    "# get rid of building ID\n",
    "df_weekday_noID = df_weekday.copy()\n",
    "del df_weekday_noID['Unnamed: 0']\n",
    "\n",
    "# weekday_X_train = TimeSeriesScalerMeanVariance().fit_transform(np.squeeze(df_weekday_noID.values))\n",
    "weekday_X_train = TimeSeriesScalerMeanVariance().fit_transform(df_weekday_noID.values)\n",
    "# dataFrame.values will generate a 3d arra (the third dimension being 1) so we convert it to a 2d array\n",
    "weekday_X_train = np.squeeze(weekday_X_train) # now is a 2d array\n",
    "print(\"Shape of X matrix: {}\".format(weekday_X_train.shape))\n",
    "\n",
    "sz = weekday_X_train.shape[1]\n",
    "\n",
    "seed = 3\n",
    "k = 5\n",
    "ks = KShape(n_clusters=k, verbose=True, random_state=seed)\n",
    "y_pred = ks.fit_predict(weekday_X_train)\n",
    "\n",
    "# plt.figure(figsize=(18,10))\n",
    "# for yi in range(k):\n",
    "#     plt.subplot(k, 1, 1 + yi)\n",
    "#     for xx in weekday_X_train[y_pred == yi]:\n",
    "#         plt.plot(xx.ravel(), \"k-\", alpha=.2)\n",
    "#     plt.plot(ks.cluster_centers_[yi].ravel(), \"r-\")\n",
    "#     plt.xlim(0, sz)\n",
    "#     plt.ylim(-4, 4)\n",
    "#     plt.title(\"Cluster %d\" % (yi + 1))\n",
    "\n",
    "# # plt.tight_layout()\n",
    "# plt.show()"
   ]
  },
  {
   "cell_type": "code",
   "execution_count": null,
   "metadata": {},
   "outputs": [],
   "source": []
  },
  {
   "cell_type": "markdown",
   "metadata": {},
   "source": [
    "## Evaluation:"
   ]
  },
  {
   "cell_type": "markdown",
   "metadata": {},
   "source": [
    "### Evaluate resulting clusters with sillouhette coefficient plot"
   ]
  },
  {
   "cell_type": "code",
   "execution_count": 14,
   "metadata": {
    "ExecuteTime": {
     "end_time": "2018-12-16T14:38:15.692230Z",
     "start_time": "2018-12-16T14:37:57.752789Z"
    },
    "scrolled": false
   },
   "outputs": [
    {
     "name": "stdout",
     "output_type": "stream",
     "text": [
      "0.187 --> 0.168 --> 0.165 --> 0.166 --> \n"
     ]
    },
    {
     "ename": "ValueError",
     "evalue": "Found array with dim 3. Estimator expected <= 2.",
     "output_type": "error",
     "traceback": [
      "\u001b[0;31m---------------------------------------------------------------------------\u001b[0m",
      "\u001b[0;31mValueError\u001b[0m                                Traceback (most recent call last)",
      "\u001b[0;32m<ipython-input-14-c172e5e162a4>\u001b[0m in \u001b[0;36m<module>\u001b[0;34m\u001b[0m\n\u001b[1;32m      2\u001b[0m \u001b[0mseed\u001b[0m \u001b[0;34m=\u001b[0m \u001b[0;36m3\u001b[0m \u001b[0;31m# random seed for reproducibility\u001b[0m\u001b[0;34m\u001b[0m\u001b[0m\n\u001b[1;32m      3\u001b[0m \u001b[0;34m\u001b[0m\u001b[0m\n\u001b[0;32m----> 4\u001b[0;31m \u001b[0mplotSilhouettes\u001b[0m\u001b[0;34m(\u001b[0m\u001b[0mweekday_X_train\u001b[0m\u001b[0;34m,\u001b[0m \u001b[0mrangeK\u001b[0m\u001b[0;34m,\u001b[0m \u001b[0mseed\u001b[0m\u001b[0;34m)\u001b[0m\u001b[0;34m\u001b[0m\u001b[0m\n\u001b[0m",
      "\u001b[0;32m<ipython-input-8-7ddf93d61fba>\u001b[0m in \u001b[0;36mplotSilhouettes\u001b[0;34m(X, rangeK, seed)\u001b[0m\n\u001b[1;32m     22\u001b[0m         \u001b[0;31m# This gives a perspective into the density and separation of the formed\u001b[0m\u001b[0;34m\u001b[0m\u001b[0;34m\u001b[0m\u001b[0m\n\u001b[1;32m     23\u001b[0m         \u001b[0;31m# clusters\u001b[0m\u001b[0;34m\u001b[0m\u001b[0;34m\u001b[0m\u001b[0m\n\u001b[0;32m---> 24\u001b[0;31m         \u001b[0msilhouette_avg\u001b[0m \u001b[0;34m=\u001b[0m \u001b[0msilhouette_score\u001b[0m\u001b[0;34m(\u001b[0m\u001b[0mX\u001b[0m\u001b[0;34m,\u001b[0m \u001b[0mcluster_labels\u001b[0m\u001b[0;34m)\u001b[0m\u001b[0;34m\u001b[0m\u001b[0m\n\u001b[0m\u001b[1;32m     25\u001b[0m         \u001b[0mprint\u001b[0m\u001b[0;34m(\u001b[0m\u001b[0;34m\"For k = {}. The average silhouette_score is : {}.\"\u001b[0m\u001b[0;34m.\u001b[0m\u001b[0mformat\u001b[0m\u001b[0;34m(\u001b[0m\u001b[0mk\u001b[0m\u001b[0;34m,\u001b[0m \u001b[0msilhouette_avg\u001b[0m\u001b[0;34m)\u001b[0m\u001b[0;34m)\u001b[0m\u001b[0;34m\u001b[0m\u001b[0m\n\u001b[1;32m     26\u001b[0m \u001b[0;34m\u001b[0m\u001b[0m\n",
      "\u001b[0;32m~/miniconda3/lib/python3.6/site-packages/sklearn/metrics/cluster/unsupervised.py\u001b[0m in \u001b[0;36msilhouette_score\u001b[0;34m(X, labels, metric, sample_size, random_state, **kwds)\u001b[0m\n\u001b[1;32m    115\u001b[0m         \u001b[0;32melse\u001b[0m\u001b[0;34m:\u001b[0m\u001b[0;34m\u001b[0m\u001b[0m\n\u001b[1;32m    116\u001b[0m             \u001b[0mX\u001b[0m\u001b[0;34m,\u001b[0m \u001b[0mlabels\u001b[0m \u001b[0;34m=\u001b[0m \u001b[0mX\u001b[0m\u001b[0;34m[\u001b[0m\u001b[0mindices\u001b[0m\u001b[0;34m]\u001b[0m\u001b[0;34m,\u001b[0m \u001b[0mlabels\u001b[0m\u001b[0;34m[\u001b[0m\u001b[0mindices\u001b[0m\u001b[0;34m]\u001b[0m\u001b[0;34m\u001b[0m\u001b[0m\n\u001b[0;32m--> 117\u001b[0;31m     \u001b[0;32mreturn\u001b[0m \u001b[0mnp\u001b[0m\u001b[0;34m.\u001b[0m\u001b[0mmean\u001b[0m\u001b[0;34m(\u001b[0m\u001b[0msilhouette_samples\u001b[0m\u001b[0;34m(\u001b[0m\u001b[0mX\u001b[0m\u001b[0;34m,\u001b[0m \u001b[0mlabels\u001b[0m\u001b[0;34m,\u001b[0m \u001b[0mmetric\u001b[0m\u001b[0;34m=\u001b[0m\u001b[0mmetric\u001b[0m\u001b[0;34m,\u001b[0m \u001b[0;34m**\u001b[0m\u001b[0mkwds\u001b[0m\u001b[0;34m)\u001b[0m\u001b[0;34m)\u001b[0m\u001b[0;34m\u001b[0m\u001b[0m\n\u001b[0m\u001b[1;32m    118\u001b[0m \u001b[0;34m\u001b[0m\u001b[0m\n\u001b[1;32m    119\u001b[0m \u001b[0;34m\u001b[0m\u001b[0m\n",
      "\u001b[0;32m~/miniconda3/lib/python3.6/site-packages/sklearn/metrics/cluster/unsupervised.py\u001b[0m in \u001b[0;36msilhouette_samples\u001b[0;34m(X, labels, metric, **kwds)\u001b[0m\n\u001b[1;32m    210\u001b[0m \u001b[0;34m\u001b[0m\u001b[0m\n\u001b[1;32m    211\u001b[0m     \"\"\"\n\u001b[0;32m--> 212\u001b[0;31m     \u001b[0mX\u001b[0m\u001b[0;34m,\u001b[0m \u001b[0mlabels\u001b[0m \u001b[0;34m=\u001b[0m \u001b[0mcheck_X_y\u001b[0m\u001b[0;34m(\u001b[0m\u001b[0mX\u001b[0m\u001b[0;34m,\u001b[0m \u001b[0mlabels\u001b[0m\u001b[0;34m,\u001b[0m \u001b[0maccept_sparse\u001b[0m\u001b[0;34m=\u001b[0m\u001b[0;34m[\u001b[0m\u001b[0;34m'csc'\u001b[0m\u001b[0;34m,\u001b[0m \u001b[0;34m'csr'\u001b[0m\u001b[0;34m]\u001b[0m\u001b[0;34m)\u001b[0m\u001b[0;34m\u001b[0m\u001b[0m\n\u001b[0m\u001b[1;32m    213\u001b[0m     \u001b[0mle\u001b[0m \u001b[0;34m=\u001b[0m \u001b[0mLabelEncoder\u001b[0m\u001b[0;34m(\u001b[0m\u001b[0;34m)\u001b[0m\u001b[0;34m\u001b[0m\u001b[0m\n\u001b[1;32m    214\u001b[0m     \u001b[0mlabels\u001b[0m \u001b[0;34m=\u001b[0m \u001b[0mle\u001b[0m\u001b[0;34m.\u001b[0m\u001b[0mfit_transform\u001b[0m\u001b[0;34m(\u001b[0m\u001b[0mlabels\u001b[0m\u001b[0;34m)\u001b[0m\u001b[0;34m\u001b[0m\u001b[0m\n",
      "\u001b[0;32m~/miniconda3/lib/python3.6/site-packages/sklearn/utils/validation.py\u001b[0m in \u001b[0;36mcheck_X_y\u001b[0;34m(X, y, accept_sparse, accept_large_sparse, dtype, order, copy, force_all_finite, ensure_2d, allow_nd, multi_output, ensure_min_samples, ensure_min_features, y_numeric, warn_on_dtype, estimator)\u001b[0m\n\u001b[1;32m    754\u001b[0m                     \u001b[0mensure_min_features\u001b[0m\u001b[0;34m=\u001b[0m\u001b[0mensure_min_features\u001b[0m\u001b[0;34m,\u001b[0m\u001b[0;34m\u001b[0m\u001b[0m\n\u001b[1;32m    755\u001b[0m                     \u001b[0mwarn_on_dtype\u001b[0m\u001b[0;34m=\u001b[0m\u001b[0mwarn_on_dtype\u001b[0m\u001b[0;34m,\u001b[0m\u001b[0;34m\u001b[0m\u001b[0m\n\u001b[0;32m--> 756\u001b[0;31m                     estimator=estimator)\n\u001b[0m\u001b[1;32m    757\u001b[0m     \u001b[0;32mif\u001b[0m \u001b[0mmulti_output\u001b[0m\u001b[0;34m:\u001b[0m\u001b[0;34m\u001b[0m\u001b[0m\n\u001b[1;32m    758\u001b[0m         y = check_array(y, 'csr', force_all_finite=True, ensure_2d=False,\n",
      "\u001b[0;32m~/miniconda3/lib/python3.6/site-packages/sklearn/utils/validation.py\u001b[0m in \u001b[0;36mcheck_array\u001b[0;34m(array, accept_sparse, accept_large_sparse, dtype, order, copy, force_all_finite, ensure_2d, allow_nd, ensure_min_samples, ensure_min_features, warn_on_dtype, estimator)\u001b[0m\n\u001b[1;32m    568\u001b[0m         \u001b[0;32mif\u001b[0m \u001b[0;32mnot\u001b[0m \u001b[0mallow_nd\u001b[0m \u001b[0;32mand\u001b[0m \u001b[0marray\u001b[0m\u001b[0;34m.\u001b[0m\u001b[0mndim\u001b[0m \u001b[0;34m>=\u001b[0m \u001b[0;36m3\u001b[0m\u001b[0;34m:\u001b[0m\u001b[0;34m\u001b[0m\u001b[0m\n\u001b[1;32m    569\u001b[0m             raise ValueError(\"Found array with dim %d. %s expected <= 2.\"\n\u001b[0;32m--> 570\u001b[0;31m                              % (array.ndim, estimator_name))\n\u001b[0m\u001b[1;32m    571\u001b[0m         \u001b[0;32mif\u001b[0m \u001b[0mforce_all_finite\u001b[0m\u001b[0;34m:\u001b[0m\u001b[0;34m\u001b[0m\u001b[0m\n\u001b[1;32m    572\u001b[0m             _assert_all_finite(array,\n",
      "\u001b[0;31mValueError\u001b[0m: Found array with dim 3. Estimator expected <= 2."
     ]
    },
    {
     "name": "stdout",
     "output_type": "stream",
     "text": [
      "Error in callback <function install_repl_displayhook.<locals>.post_execute at 0x112c7ce18> (for post_execute):\n"
     ]
    },
    {
     "name": "stderr",
     "output_type": "stream",
     "text": [
      "/Users/matias/miniconda3/lib/python3.6/site-packages/matplotlib-3.0.0rc2-py3.6-macosx-10.7-x86_64.egg/matplotlib/font_manager.py:1238: UserWarning:\n",
      "\n",
      "findfont: Font family ['sans-serif'] not found. Falling back to DejaVu Sans.\n",
      "\n"
     ]
    },
    {
     "ename": "IndexError",
     "evalue": "list index out of range",
     "output_type": "error",
     "traceback": [
      "\u001b[0;31m---------------------------------------------------------------------------\u001b[0m",
      "\u001b[0;31mIndexError\u001b[0m                                Traceback (most recent call last)",
      "\u001b[0;32m~/miniconda3/lib/python3.6/site-packages/matplotlib-3.0.0rc2-py3.6-macosx-10.7-x86_64.egg/matplotlib/pyplot.py\u001b[0m in \u001b[0;36mpost_execute\u001b[0;34m()\u001b[0m\n",
      "\u001b[0;32m~/miniconda3/lib/python3.6/site-packages/matplotlib-3.0.0rc2-py3.6-macosx-10.7-x86_64.egg/matplotlib/_pylab_helpers.py\u001b[0m in \u001b[0;36mdraw_all\u001b[0;34m(cls, force)\u001b[0m\n",
      "\u001b[0;32m~/miniconda3/lib/python3.6/site-packages/matplotlib-3.0.0rc2-py3.6-macosx-10.7-x86_64.egg/matplotlib/backend_bases.py\u001b[0m in \u001b[0;36mdraw_idle\u001b[0;34m(self, *args, **kwargs)\u001b[0m\n",
      "\u001b[0;32m~/miniconda3/lib/python3.6/site-packages/matplotlib-3.0.0rc2-py3.6-macosx-10.7-x86_64.egg/matplotlib/backends/backend_agg.py\u001b[0m in \u001b[0;36mdraw\u001b[0;34m(self)\u001b[0m\n",
      "\u001b[0;32m~/miniconda3/lib/python3.6/site-packages/matplotlib-3.0.0rc2-py3.6-macosx-10.7-x86_64.egg/matplotlib/artist.py\u001b[0m in \u001b[0;36mdraw_wrapper\u001b[0;34m(artist, renderer, *args, **kwargs)\u001b[0m\n",
      "\u001b[0;32m~/miniconda3/lib/python3.6/site-packages/matplotlib-3.0.0rc2-py3.6-macosx-10.7-x86_64.egg/matplotlib/figure.py\u001b[0m in \u001b[0;36mdraw\u001b[0;34m(self, renderer)\u001b[0m\n",
      "\u001b[0;32m~/miniconda3/lib/python3.6/site-packages/matplotlib-3.0.0rc2-py3.6-macosx-10.7-x86_64.egg/matplotlib/image.py\u001b[0m in \u001b[0;36m_draw_list_compositing_images\u001b[0;34m(renderer, parent, artists, suppress_composite)\u001b[0m\n",
      "\u001b[0;32m~/miniconda3/lib/python3.6/site-packages/matplotlib-3.0.0rc2-py3.6-macosx-10.7-x86_64.egg/matplotlib/artist.py\u001b[0m in \u001b[0;36mdraw_wrapper\u001b[0;34m(artist, renderer, *args, **kwargs)\u001b[0m\n",
      "\u001b[0;32m~/miniconda3/lib/python3.6/site-packages/matplotlib-3.0.0rc2-py3.6-macosx-10.7-x86_64.egg/matplotlib/axes/_base.py\u001b[0m in \u001b[0;36mdraw\u001b[0;34m(self, renderer, inframe)\u001b[0m\n",
      "\u001b[0;32m~/miniconda3/lib/python3.6/site-packages/matplotlib-3.0.0rc2-py3.6-macosx-10.7-x86_64.egg/matplotlib/image.py\u001b[0m in \u001b[0;36m_draw_list_compositing_images\u001b[0;34m(renderer, parent, artists, suppress_composite)\u001b[0m\n",
      "\u001b[0;32m~/miniconda3/lib/python3.6/site-packages/matplotlib-3.0.0rc2-py3.6-macosx-10.7-x86_64.egg/matplotlib/artist.py\u001b[0m in \u001b[0;36mdraw_wrapper\u001b[0;34m(artist, renderer, *args, **kwargs)\u001b[0m\n",
      "\u001b[0;32m~/miniconda3/lib/python3.6/site-packages/matplotlib-3.0.0rc2-py3.6-macosx-10.7-x86_64.egg/matplotlib/axis.py\u001b[0m in \u001b[0;36mdraw\u001b[0;34m(self, renderer, *args, **kwargs)\u001b[0m\n",
      "\u001b[0;32m~/miniconda3/lib/python3.6/site-packages/matplotlib-3.0.0rc2-py3.6-macosx-10.7-x86_64.egg/matplotlib/axis.py\u001b[0m in \u001b[0;36m_get_tick_bboxes\u001b[0;34m(self, ticks, renderer)\u001b[0m\n",
      "\u001b[0;32m~/miniconda3/lib/python3.6/site-packages/matplotlib-3.0.0rc2-py3.6-macosx-10.7-x86_64.egg/matplotlib/text.py\u001b[0m in \u001b[0;36mget_window_extent\u001b[0;34m(self, renderer, dpi)\u001b[0m\n",
      "\u001b[0;32m~/miniconda3/lib/python3.6/site-packages/matplotlib-3.0.0rc2-py3.6-macosx-10.7-x86_64.egg/matplotlib/text.py\u001b[0m in \u001b[0;36m_get_layout\u001b[0;34m(self, renderer)\u001b[0m\n",
      "\u001b[0;32m~/miniconda3/lib/python3.6/site-packages/matplotlib-3.0.0rc2-py3.6-macosx-10.7-x86_64.egg/matplotlib/backends/backend_agg.py\u001b[0m in \u001b[0;36mget_text_width_height_descent\u001b[0;34m(self, s, prop, ismath)\u001b[0m\n",
      "\u001b[0;32m~/miniconda3/lib/python3.6/site-packages/matplotlib-3.0.0rc2-py3.6-macosx-10.7-x86_64.egg/matplotlib/backends/backend_agg.py\u001b[0m in \u001b[0;36m_get_agg_font\u001b[0;34m(self, prop)\u001b[0m\n",
      "\u001b[0;32m~/miniconda3/lib/python3.6/site-packages/matplotlib-3.0.0rc2-py3.6-macosx-10.7-x86_64.egg/matplotlib/font_manager.py\u001b[0m in \u001b[0;36mfindfont\u001b[0;34m(prop, **kw)\u001b[0m\n",
      "\u001b[0;32m~/miniconda3/lib/python3.6/site-packages/matplotlib-3.0.0rc2-py3.6-macosx-10.7-x86_64.egg/matplotlib/font_manager.py\u001b[0m in \u001b[0;36mfindfont\u001b[0;34m(self, prop, fontext, directory, fallback_to_default, rebuild_if_missing)\u001b[0m\n",
      "\u001b[0;32m~/miniconda3/lib/python3.6/site-packages/matplotlib-3.0.0rc2-py3.6-macosx-10.7-x86_64.egg/matplotlib/font_manager.py\u001b[0m in \u001b[0;36m_findfont_cached\u001b[0;34m(self, prop, fontext, directory, fallback_to_default, rebuild_if_missing, rc_params)\u001b[0m\n",
      "\u001b[0;32m~/miniconda3/lib/python3.6/site-packages/matplotlib-3.0.0rc2-py3.6-macosx-10.7-x86_64.egg/matplotlib/font_manager.py\u001b[0m in \u001b[0;36mfindfont\u001b[0;34m(self, prop, fontext, directory, fallback_to_default, rebuild_if_missing)\u001b[0m\n",
      "\u001b[0;32m~/miniconda3/lib/python3.6/site-packages/matplotlib-3.0.0rc2-py3.6-macosx-10.7-x86_64.egg/matplotlib/font_manager.py\u001b[0m in \u001b[0;36m_findfont_cached\u001b[0;34m(self, prop, fontext, directory, fallback_to_default, rebuild_if_missing, rc_params)\u001b[0m\n",
      "\u001b[0;32m~/miniconda3/lib/python3.6/site-packages/matplotlib-3.0.0rc2-py3.6-macosx-10.7-x86_64.egg/matplotlib/font_manager.py\u001b[0m in \u001b[0;36m_rebuild\u001b[0;34m()\u001b[0m\n",
      "\u001b[0;32m~/miniconda3/lib/python3.6/site-packages/matplotlib-3.0.0rc2-py3.6-macosx-10.7-x86_64.egg/matplotlib/font_manager.py\u001b[0m in \u001b[0;36m__init__\u001b[0;34m(self, size, weight)\u001b[0m\n",
      "\u001b[0;31mIndexError\u001b[0m: list index out of range"
     ]
    },
    {
     "ename": "IndexError",
     "evalue": "list index out of range",
     "output_type": "error",
     "traceback": [
      "\u001b[0;31m---------------------------------------------------------------------------\u001b[0m",
      "\u001b[0;31mIndexError\u001b[0m                                Traceback (most recent call last)",
      "\u001b[0;32m~/miniconda3/lib/python3.6/site-packages/IPython/core/formatters.py\u001b[0m in \u001b[0;36m__call__\u001b[0;34m(self, obj)\u001b[0m\n\u001b[1;32m    339\u001b[0m                 \u001b[0;32mpass\u001b[0m\u001b[0;34m\u001b[0m\u001b[0m\n\u001b[1;32m    340\u001b[0m             \u001b[0;32melse\u001b[0m\u001b[0;34m:\u001b[0m\u001b[0;34m\u001b[0m\u001b[0m\n\u001b[0;32m--> 341\u001b[0;31m                 \u001b[0;32mreturn\u001b[0m \u001b[0mprinter\u001b[0m\u001b[0;34m(\u001b[0m\u001b[0mobj\u001b[0m\u001b[0;34m)\u001b[0m\u001b[0;34m\u001b[0m\u001b[0m\n\u001b[0m\u001b[1;32m    342\u001b[0m             \u001b[0;31m# Finally look for special method names\u001b[0m\u001b[0;34m\u001b[0m\u001b[0;34m\u001b[0m\u001b[0m\n\u001b[1;32m    343\u001b[0m             \u001b[0mmethod\u001b[0m \u001b[0;34m=\u001b[0m \u001b[0mget_real_method\u001b[0m\u001b[0;34m(\u001b[0m\u001b[0mobj\u001b[0m\u001b[0;34m,\u001b[0m \u001b[0mself\u001b[0m\u001b[0;34m.\u001b[0m\u001b[0mprint_method\u001b[0m\u001b[0;34m)\u001b[0m\u001b[0;34m\u001b[0m\u001b[0m\n",
      "\u001b[0;32m~/miniconda3/lib/python3.6/site-packages/IPython/core/pylabtools.py\u001b[0m in \u001b[0;36m<lambda>\u001b[0;34m(fig)\u001b[0m\n\u001b[1;32m    242\u001b[0m \u001b[0;34m\u001b[0m\u001b[0m\n\u001b[1;32m    243\u001b[0m     \u001b[0;32mif\u001b[0m \u001b[0;34m'png'\u001b[0m \u001b[0;32min\u001b[0m \u001b[0mformats\u001b[0m\u001b[0;34m:\u001b[0m\u001b[0;34m\u001b[0m\u001b[0m\n\u001b[0;32m--> 244\u001b[0;31m         \u001b[0mpng_formatter\u001b[0m\u001b[0;34m.\u001b[0m\u001b[0mfor_type\u001b[0m\u001b[0;34m(\u001b[0m\u001b[0mFigure\u001b[0m\u001b[0;34m,\u001b[0m \u001b[0;32mlambda\u001b[0m \u001b[0mfig\u001b[0m\u001b[0;34m:\u001b[0m \u001b[0mprint_figure\u001b[0m\u001b[0;34m(\u001b[0m\u001b[0mfig\u001b[0m\u001b[0;34m,\u001b[0m \u001b[0;34m'png'\u001b[0m\u001b[0;34m,\u001b[0m \u001b[0;34m**\u001b[0m\u001b[0mkwargs\u001b[0m\u001b[0;34m)\u001b[0m\u001b[0;34m)\u001b[0m\u001b[0;34m\u001b[0m\u001b[0m\n\u001b[0m\u001b[1;32m    245\u001b[0m     \u001b[0;32mif\u001b[0m \u001b[0;34m'retina'\u001b[0m \u001b[0;32min\u001b[0m \u001b[0mformats\u001b[0m \u001b[0;32mor\u001b[0m \u001b[0;34m'png2x'\u001b[0m \u001b[0;32min\u001b[0m \u001b[0mformats\u001b[0m\u001b[0;34m:\u001b[0m\u001b[0;34m\u001b[0m\u001b[0m\n\u001b[1;32m    246\u001b[0m         \u001b[0mpng_formatter\u001b[0m\u001b[0;34m.\u001b[0m\u001b[0mfor_type\u001b[0m\u001b[0;34m(\u001b[0m\u001b[0mFigure\u001b[0m\u001b[0;34m,\u001b[0m \u001b[0;32mlambda\u001b[0m \u001b[0mfig\u001b[0m\u001b[0;34m:\u001b[0m \u001b[0mretina_figure\u001b[0m\u001b[0;34m(\u001b[0m\u001b[0mfig\u001b[0m\u001b[0;34m,\u001b[0m \u001b[0;34m**\u001b[0m\u001b[0mkwargs\u001b[0m\u001b[0;34m)\u001b[0m\u001b[0;34m)\u001b[0m\u001b[0;34m\u001b[0m\u001b[0m\n",
      "\u001b[0;32m~/miniconda3/lib/python3.6/site-packages/IPython/core/pylabtools.py\u001b[0m in \u001b[0;36mprint_figure\u001b[0;34m(fig, fmt, bbox_inches, **kwargs)\u001b[0m\n\u001b[1;32m    126\u001b[0m \u001b[0;34m\u001b[0m\u001b[0m\n\u001b[1;32m    127\u001b[0m     \u001b[0mbytes_io\u001b[0m \u001b[0;34m=\u001b[0m \u001b[0mBytesIO\u001b[0m\u001b[0;34m(\u001b[0m\u001b[0;34m)\u001b[0m\u001b[0;34m\u001b[0m\u001b[0m\n\u001b[0;32m--> 128\u001b[0;31m     \u001b[0mfig\u001b[0m\u001b[0;34m.\u001b[0m\u001b[0mcanvas\u001b[0m\u001b[0;34m.\u001b[0m\u001b[0mprint_figure\u001b[0m\u001b[0;34m(\u001b[0m\u001b[0mbytes_io\u001b[0m\u001b[0;34m,\u001b[0m \u001b[0;34m**\u001b[0m\u001b[0mkw\u001b[0m\u001b[0;34m)\u001b[0m\u001b[0;34m\u001b[0m\u001b[0m\n\u001b[0m\u001b[1;32m    129\u001b[0m     \u001b[0mdata\u001b[0m \u001b[0;34m=\u001b[0m \u001b[0mbytes_io\u001b[0m\u001b[0;34m.\u001b[0m\u001b[0mgetvalue\u001b[0m\u001b[0;34m(\u001b[0m\u001b[0;34m)\u001b[0m\u001b[0;34m\u001b[0m\u001b[0m\n\u001b[1;32m    130\u001b[0m     \u001b[0;32mif\u001b[0m \u001b[0mfmt\u001b[0m \u001b[0;34m==\u001b[0m \u001b[0;34m'svg'\u001b[0m\u001b[0;34m:\u001b[0m\u001b[0;34m\u001b[0m\u001b[0m\n",
      "\u001b[0;32m~/miniconda3/lib/python3.6/site-packages/matplotlib-3.0.0rc2-py3.6-macosx-10.7-x86_64.egg/matplotlib/backend_bases.py\u001b[0m in \u001b[0;36mprint_figure\u001b[0;34m(self, filename, dpi, facecolor, edgecolor, orientation, format, bbox_inches, **kwargs)\u001b[0m\n",
      "\u001b[0;32m~/miniconda3/lib/python3.6/site-packages/matplotlib-3.0.0rc2-py3.6-macosx-10.7-x86_64.egg/matplotlib/backends/backend_agg.py\u001b[0m in \u001b[0;36mprint_png\u001b[0;34m(self, filename_or_obj, *args, **kwargs)\u001b[0m\n",
      "\u001b[0;32m~/miniconda3/lib/python3.6/site-packages/matplotlib-3.0.0rc2-py3.6-macosx-10.7-x86_64.egg/matplotlib/backends/backend_agg.py\u001b[0m in \u001b[0;36mdraw\u001b[0;34m(self)\u001b[0m\n",
      "\u001b[0;32m~/miniconda3/lib/python3.6/site-packages/matplotlib-3.0.0rc2-py3.6-macosx-10.7-x86_64.egg/matplotlib/artist.py\u001b[0m in \u001b[0;36mdraw_wrapper\u001b[0;34m(artist, renderer, *args, **kwargs)\u001b[0m\n",
      "\u001b[0;32m~/miniconda3/lib/python3.6/site-packages/matplotlib-3.0.0rc2-py3.6-macosx-10.7-x86_64.egg/matplotlib/figure.py\u001b[0m in \u001b[0;36mdraw\u001b[0;34m(self, renderer)\u001b[0m\n",
      "\u001b[0;32m~/miniconda3/lib/python3.6/site-packages/matplotlib-3.0.0rc2-py3.6-macosx-10.7-x86_64.egg/matplotlib/image.py\u001b[0m in \u001b[0;36m_draw_list_compositing_images\u001b[0;34m(renderer, parent, artists, suppress_composite)\u001b[0m\n",
      "\u001b[0;32m~/miniconda3/lib/python3.6/site-packages/matplotlib-3.0.0rc2-py3.6-macosx-10.7-x86_64.egg/matplotlib/artist.py\u001b[0m in \u001b[0;36mdraw_wrapper\u001b[0;34m(artist, renderer, *args, **kwargs)\u001b[0m\n",
      "\u001b[0;32m~/miniconda3/lib/python3.6/site-packages/matplotlib-3.0.0rc2-py3.6-macosx-10.7-x86_64.egg/matplotlib/axes/_base.py\u001b[0m in \u001b[0;36mdraw\u001b[0;34m(self, renderer, inframe)\u001b[0m\n",
      "\u001b[0;32m~/miniconda3/lib/python3.6/site-packages/matplotlib-3.0.0rc2-py3.6-macosx-10.7-x86_64.egg/matplotlib/image.py\u001b[0m in \u001b[0;36m_draw_list_compositing_images\u001b[0;34m(renderer, parent, artists, suppress_composite)\u001b[0m\n",
      "\u001b[0;32m~/miniconda3/lib/python3.6/site-packages/matplotlib-3.0.0rc2-py3.6-macosx-10.7-x86_64.egg/matplotlib/artist.py\u001b[0m in \u001b[0;36mdraw_wrapper\u001b[0;34m(artist, renderer, *args, **kwargs)\u001b[0m\n",
      "\u001b[0;32m~/miniconda3/lib/python3.6/site-packages/matplotlib-3.0.0rc2-py3.6-macosx-10.7-x86_64.egg/matplotlib/axis.py\u001b[0m in \u001b[0;36mdraw\u001b[0;34m(self, renderer, *args, **kwargs)\u001b[0m\n",
      "\u001b[0;32m~/miniconda3/lib/python3.6/site-packages/matplotlib-3.0.0rc2-py3.6-macosx-10.7-x86_64.egg/matplotlib/axis.py\u001b[0m in \u001b[0;36m_get_tick_bboxes\u001b[0;34m(self, ticks, renderer)\u001b[0m\n",
      "\u001b[0;32m~/miniconda3/lib/python3.6/site-packages/matplotlib-3.0.0rc2-py3.6-macosx-10.7-x86_64.egg/matplotlib/text.py\u001b[0m in \u001b[0;36mget_window_extent\u001b[0;34m(self, renderer, dpi)\u001b[0m\n",
      "\u001b[0;32m~/miniconda3/lib/python3.6/site-packages/matplotlib-3.0.0rc2-py3.6-macosx-10.7-x86_64.egg/matplotlib/text.py\u001b[0m in \u001b[0;36m_get_layout\u001b[0;34m(self, renderer)\u001b[0m\n",
      "\u001b[0;32m~/miniconda3/lib/python3.6/site-packages/matplotlib-3.0.0rc2-py3.6-macosx-10.7-x86_64.egg/matplotlib/backends/backend_agg.py\u001b[0m in \u001b[0;36mget_text_width_height_descent\u001b[0;34m(self, s, prop, ismath)\u001b[0m\n",
      "\u001b[0;32m~/miniconda3/lib/python3.6/site-packages/matplotlib-3.0.0rc2-py3.6-macosx-10.7-x86_64.egg/matplotlib/backends/backend_agg.py\u001b[0m in \u001b[0;36m_get_agg_font\u001b[0;34m(self, prop)\u001b[0m\n",
      "\u001b[0;32m~/miniconda3/lib/python3.6/site-packages/matplotlib-3.0.0rc2-py3.6-macosx-10.7-x86_64.egg/matplotlib/font_manager.py\u001b[0m in \u001b[0;36mfindfont\u001b[0;34m(prop, **kw)\u001b[0m\n",
      "\u001b[0;32m~/miniconda3/lib/python3.6/site-packages/matplotlib-3.0.0rc2-py3.6-macosx-10.7-x86_64.egg/matplotlib/font_manager.py\u001b[0m in \u001b[0;36mfindfont\u001b[0;34m(self, prop, fontext, directory, fallback_to_default, rebuild_if_missing)\u001b[0m\n",
      "\u001b[0;32m~/miniconda3/lib/python3.6/site-packages/matplotlib-3.0.0rc2-py3.6-macosx-10.7-x86_64.egg/matplotlib/font_manager.py\u001b[0m in \u001b[0;36m_findfont_cached\u001b[0;34m(self, prop, fontext, directory, fallback_to_default, rebuild_if_missing, rc_params)\u001b[0m\n",
      "\u001b[0;32m~/miniconda3/lib/python3.6/site-packages/matplotlib-3.0.0rc2-py3.6-macosx-10.7-x86_64.egg/matplotlib/font_manager.py\u001b[0m in \u001b[0;36mfindfont\u001b[0;34m(self, prop, fontext, directory, fallback_to_default, rebuild_if_missing)\u001b[0m\n",
      "\u001b[0;32m~/miniconda3/lib/python3.6/site-packages/matplotlib-3.0.0rc2-py3.6-macosx-10.7-x86_64.egg/matplotlib/font_manager.py\u001b[0m in \u001b[0;36m_findfont_cached\u001b[0;34m(self, prop, fontext, directory, fallback_to_default, rebuild_if_missing, rc_params)\u001b[0m\n",
      "\u001b[0;32m~/miniconda3/lib/python3.6/site-packages/matplotlib-3.0.0rc2-py3.6-macosx-10.7-x86_64.egg/matplotlib/font_manager.py\u001b[0m in \u001b[0;36m_rebuild\u001b[0;34m()\u001b[0m\n",
      "\u001b[0;32m~/miniconda3/lib/python3.6/site-packages/matplotlib-3.0.0rc2-py3.6-macosx-10.7-x86_64.egg/matplotlib/font_manager.py\u001b[0m in \u001b[0;36m__init__\u001b[0;34m(self, size, weight)\u001b[0m\n",
      "\u001b[0;31mIndexError\u001b[0m: list index out of range"
     ]
    },
    {
     "data": {
      "text/plain": [
       "<Figure size 1296x576 with 1 Axes>"
      ]
     },
     "metadata": {},
     "output_type": "display_data"
    }
   ],
   "source": [
    "rangeK = [2, 3, 4, 5, 6] # values of K-clusters to test\n",
    "seed = 3 # random seed for reproducibility\n",
    "\n",
    "plotSilhouettes(weekday_X_train, rangeK, seed)\n"
   ]
  },
  {
   "cell_type": "code",
   "execution_count": 15,
   "metadata": {
    "ExecuteTime": {
     "end_time": "2018-12-16T14:38:19.292541Z",
     "start_time": "2018-12-16T14:38:15.697823Z"
    }
   },
   "outputs": [
    {
     "name": "stdout",
     "output_type": "stream",
     "text": [
      "0.146 --> 0.125 --> 0.119 --> 0.113 --> 0.108 --> 0.102 --> 0.108 --> \n"
     ]
    },
    {
     "ename": "ValueError",
     "evalue": "Found array with dim 3. Estimator expected <= 2.",
     "output_type": "error",
     "traceback": [
      "\u001b[0;31m---------------------------------------------------------------------------\u001b[0m",
      "\u001b[0;31mValueError\u001b[0m                                Traceback (most recent call last)",
      "\u001b[0;32m<ipython-input-15-af98cd5505ea>\u001b[0m in \u001b[0;36m<module>\u001b[0;34m\u001b[0m\n\u001b[1;32m      6\u001b[0m \u001b[0mvisualizer\u001b[0m \u001b[0;34m=\u001b[0m \u001b[0mSilhouetteVisualizer\u001b[0m\u001b[0;34m(\u001b[0m\u001b[0mmodel\u001b[0m\u001b[0;34m)\u001b[0m\u001b[0;34m\u001b[0m\u001b[0m\n\u001b[1;32m      7\u001b[0m \u001b[0;34m\u001b[0m\u001b[0m\n\u001b[0;32m----> 8\u001b[0;31m \u001b[0mvisualizer\u001b[0m\u001b[0;34m.\u001b[0m\u001b[0mfit\u001b[0m\u001b[0;34m(\u001b[0m\u001b[0mweekday_X_train\u001b[0m\u001b[0;34m)\u001b[0m \u001b[0;31m# Fit the training data to the visualizer\u001b[0m\u001b[0;34m\u001b[0m\u001b[0m\n\u001b[0m\u001b[1;32m      9\u001b[0m \u001b[0mvisualizer\u001b[0m\u001b[0;34m.\u001b[0m\u001b[0mpoof\u001b[0m\u001b[0;34m(\u001b[0m\u001b[0;34m)\u001b[0m \u001b[0;31m# Draw/show/poof the data\u001b[0m\u001b[0;34m\u001b[0m\u001b[0m\n",
      "\u001b[0;32m~/miniconda3/lib/python3.6/site-packages/yellowbrick/cluster/silhouette.py\u001b[0m in \u001b[0;36mfit\u001b[0;34m(self, X, y, **kwargs)\u001b[0m\n\u001b[1;32m    123\u001b[0m         \u001b[0;31m# Compute the scores of the cluster\u001b[0m\u001b[0;34m\u001b[0m\u001b[0;34m\u001b[0m\u001b[0m\n\u001b[1;32m    124\u001b[0m         \u001b[0mlabels\u001b[0m \u001b[0;34m=\u001b[0m \u001b[0mself\u001b[0m\u001b[0;34m.\u001b[0m\u001b[0mestimator\u001b[0m\u001b[0;34m.\u001b[0m\u001b[0mpredict\u001b[0m\u001b[0;34m(\u001b[0m\u001b[0mX\u001b[0m\u001b[0;34m)\u001b[0m\u001b[0;34m\u001b[0m\u001b[0m\n\u001b[0;32m--> 125\u001b[0;31m         \u001b[0mself\u001b[0m\u001b[0;34m.\u001b[0m\u001b[0msilhouette_score_\u001b[0m \u001b[0;34m=\u001b[0m \u001b[0msilhouette_score\u001b[0m\u001b[0;34m(\u001b[0m\u001b[0mX\u001b[0m\u001b[0;34m,\u001b[0m \u001b[0mlabels\u001b[0m\u001b[0;34m)\u001b[0m\u001b[0;34m\u001b[0m\u001b[0m\n\u001b[0m\u001b[1;32m    126\u001b[0m         \u001b[0mself\u001b[0m\u001b[0;34m.\u001b[0m\u001b[0msilhouette_samples_\u001b[0m \u001b[0;34m=\u001b[0m \u001b[0msilhouette_samples\u001b[0m\u001b[0;34m(\u001b[0m\u001b[0mX\u001b[0m\u001b[0;34m,\u001b[0m \u001b[0mlabels\u001b[0m\u001b[0;34m)\u001b[0m\u001b[0;34m\u001b[0m\u001b[0m\n\u001b[1;32m    127\u001b[0m \u001b[0;34m\u001b[0m\u001b[0m\n",
      "\u001b[0;32m~/miniconda3/lib/python3.6/site-packages/sklearn/metrics/cluster/unsupervised.py\u001b[0m in \u001b[0;36msilhouette_score\u001b[0;34m(X, labels, metric, sample_size, random_state, **kwds)\u001b[0m\n\u001b[1;32m    115\u001b[0m         \u001b[0;32melse\u001b[0m\u001b[0;34m:\u001b[0m\u001b[0;34m\u001b[0m\u001b[0m\n\u001b[1;32m    116\u001b[0m             \u001b[0mX\u001b[0m\u001b[0;34m,\u001b[0m \u001b[0mlabels\u001b[0m \u001b[0;34m=\u001b[0m \u001b[0mX\u001b[0m\u001b[0;34m[\u001b[0m\u001b[0mindices\u001b[0m\u001b[0;34m]\u001b[0m\u001b[0;34m,\u001b[0m \u001b[0mlabels\u001b[0m\u001b[0;34m[\u001b[0m\u001b[0mindices\u001b[0m\u001b[0;34m]\u001b[0m\u001b[0;34m\u001b[0m\u001b[0m\n\u001b[0;32m--> 117\u001b[0;31m     \u001b[0;32mreturn\u001b[0m \u001b[0mnp\u001b[0m\u001b[0;34m.\u001b[0m\u001b[0mmean\u001b[0m\u001b[0;34m(\u001b[0m\u001b[0msilhouette_samples\u001b[0m\u001b[0;34m(\u001b[0m\u001b[0mX\u001b[0m\u001b[0;34m,\u001b[0m \u001b[0mlabels\u001b[0m\u001b[0;34m,\u001b[0m \u001b[0mmetric\u001b[0m\u001b[0;34m=\u001b[0m\u001b[0mmetric\u001b[0m\u001b[0;34m,\u001b[0m \u001b[0;34m**\u001b[0m\u001b[0mkwds\u001b[0m\u001b[0;34m)\u001b[0m\u001b[0;34m)\u001b[0m\u001b[0;34m\u001b[0m\u001b[0m\n\u001b[0m\u001b[1;32m    118\u001b[0m \u001b[0;34m\u001b[0m\u001b[0m\n\u001b[1;32m    119\u001b[0m \u001b[0;34m\u001b[0m\u001b[0m\n",
      "\u001b[0;32m~/miniconda3/lib/python3.6/site-packages/sklearn/metrics/cluster/unsupervised.py\u001b[0m in \u001b[0;36msilhouette_samples\u001b[0;34m(X, labels, metric, **kwds)\u001b[0m\n\u001b[1;32m    210\u001b[0m \u001b[0;34m\u001b[0m\u001b[0m\n\u001b[1;32m    211\u001b[0m     \"\"\"\n\u001b[0;32m--> 212\u001b[0;31m     \u001b[0mX\u001b[0m\u001b[0;34m,\u001b[0m \u001b[0mlabels\u001b[0m \u001b[0;34m=\u001b[0m \u001b[0mcheck_X_y\u001b[0m\u001b[0;34m(\u001b[0m\u001b[0mX\u001b[0m\u001b[0;34m,\u001b[0m \u001b[0mlabels\u001b[0m\u001b[0;34m,\u001b[0m \u001b[0maccept_sparse\u001b[0m\u001b[0;34m=\u001b[0m\u001b[0;34m[\u001b[0m\u001b[0;34m'csc'\u001b[0m\u001b[0;34m,\u001b[0m \u001b[0;34m'csr'\u001b[0m\u001b[0;34m]\u001b[0m\u001b[0;34m)\u001b[0m\u001b[0;34m\u001b[0m\u001b[0m\n\u001b[0m\u001b[1;32m    213\u001b[0m     \u001b[0mle\u001b[0m \u001b[0;34m=\u001b[0m \u001b[0mLabelEncoder\u001b[0m\u001b[0;34m(\u001b[0m\u001b[0;34m)\u001b[0m\u001b[0;34m\u001b[0m\u001b[0m\n\u001b[1;32m    214\u001b[0m     \u001b[0mlabels\u001b[0m \u001b[0;34m=\u001b[0m \u001b[0mle\u001b[0m\u001b[0;34m.\u001b[0m\u001b[0mfit_transform\u001b[0m\u001b[0;34m(\u001b[0m\u001b[0mlabels\u001b[0m\u001b[0;34m)\u001b[0m\u001b[0;34m\u001b[0m\u001b[0m\n",
      "\u001b[0;32m~/miniconda3/lib/python3.6/site-packages/sklearn/utils/validation.py\u001b[0m in \u001b[0;36mcheck_X_y\u001b[0;34m(X, y, accept_sparse, accept_large_sparse, dtype, order, copy, force_all_finite, ensure_2d, allow_nd, multi_output, ensure_min_samples, ensure_min_features, y_numeric, warn_on_dtype, estimator)\u001b[0m\n\u001b[1;32m    754\u001b[0m                     \u001b[0mensure_min_features\u001b[0m\u001b[0;34m=\u001b[0m\u001b[0mensure_min_features\u001b[0m\u001b[0;34m,\u001b[0m\u001b[0;34m\u001b[0m\u001b[0m\n\u001b[1;32m    755\u001b[0m                     \u001b[0mwarn_on_dtype\u001b[0m\u001b[0;34m=\u001b[0m\u001b[0mwarn_on_dtype\u001b[0m\u001b[0;34m,\u001b[0m\u001b[0;34m\u001b[0m\u001b[0m\n\u001b[0;32m--> 756\u001b[0;31m                     estimator=estimator)\n\u001b[0m\u001b[1;32m    757\u001b[0m     \u001b[0;32mif\u001b[0m \u001b[0mmulti_output\u001b[0m\u001b[0;34m:\u001b[0m\u001b[0;34m\u001b[0m\u001b[0m\n\u001b[1;32m    758\u001b[0m         y = check_array(y, 'csr', force_all_finite=True, ensure_2d=False,\n",
      "\u001b[0;32m~/miniconda3/lib/python3.6/site-packages/sklearn/utils/validation.py\u001b[0m in \u001b[0;36mcheck_array\u001b[0;34m(array, accept_sparse, accept_large_sparse, dtype, order, copy, force_all_finite, ensure_2d, allow_nd, ensure_min_samples, ensure_min_features, warn_on_dtype, estimator)\u001b[0m\n\u001b[1;32m    568\u001b[0m         \u001b[0;32mif\u001b[0m \u001b[0;32mnot\u001b[0m \u001b[0mallow_nd\u001b[0m \u001b[0;32mand\u001b[0m \u001b[0marray\u001b[0m\u001b[0;34m.\u001b[0m\u001b[0mndim\u001b[0m \u001b[0;34m>=\u001b[0m \u001b[0;36m3\u001b[0m\u001b[0;34m:\u001b[0m\u001b[0;34m\u001b[0m\u001b[0m\n\u001b[1;32m    569\u001b[0m             raise ValueError(\"Found array with dim %d. %s expected <= 2.\"\n\u001b[0;32m--> 570\u001b[0;31m                              % (array.ndim, estimator_name))\n\u001b[0m\u001b[1;32m    571\u001b[0m         \u001b[0;32mif\u001b[0m \u001b[0mforce_all_finite\u001b[0m\u001b[0;34m:\u001b[0m\u001b[0;34m\u001b[0m\u001b[0m\n\u001b[1;32m    572\u001b[0m             _assert_all_finite(array,\n",
      "\u001b[0;31mValueError\u001b[0m: Found array with dim 3. Estimator expected <= 2."
     ]
    }
   ],
   "source": [
    "# using library for silhouettes (http://www.scikit-yb.org/en/latest/api/cluster/silhouette.html)\n",
    "\n",
    "# Instantiate the clustering model and visualizer\n",
    "model = KShape(n_clusters=5, verbose=True, random_state=seed)\n",
    "\n",
    "visualizer = SilhouetteVisualizer(model)\n",
    "\n",
    "visualizer.fit(weekday_X_train) # Fit the training data to the visualizer\n",
    "visualizer.poof() # Draw/show/poof the data"
   ]
  },
  {
   "cell_type": "markdown",
   "metadata": {},
   "source": [
    "### Evaluate resulting clusters with elbow method"
   ]
  },
  {
   "cell_type": "code",
   "execution_count": 25,
   "metadata": {
    "ExecuteTime": {
     "end_time": "2018-12-16T14:38:55.073002Z",
     "start_time": "2018-12-16T14:38:19.297654Z"
    }
   },
   "outputs": [
    {
     "name": "stdout",
     "output_type": "stream",
     "text": [
      "0.187 --> 0.168 --> 0.165 --> 0.166 --> \n",
      "0.175 --> 0.146 --> 0.140 --> 0.135 --> 0.132 --> 0.131 --> 0.139 --> \n",
      "0.180 --> 0.153 --> 0.141 --> 0.138 --> 0.134 --> 0.131 --> 0.129 --> 0.127 --> 0.126 --> 0.125 --> 0.124 --> 0.123 --> 0.122 --> 0.121 --> 0.121 --> 0.121 --> 0.121 --> 0.120 --> 0.120 --> 0.120 --> 0.120 --> \n",
      "0.146 --> 0.125 --> 0.119 --> 0.113 --> 0.108 --> 0.102 --> 0.108 --> \n",
      "0.155 --> 0.124 --> 0.111 --> 0.102 --> 0.093 --> 0.090 --> 0.096 --> \n",
      "0.163 --> 0.123 --> 0.112 --> 0.106 --> 0.104 --> 0.102 --> 0.101 --> 0.100 --> 0.099 --> 0.099 --> 0.100 --> \n",
      "0.143 --> 0.117 --> 0.102 --> 0.096 --> 0.093 --> 0.092 --> 0.091 --> 0.091 --> 0.090 --> 0.090 --> 0.090 --> \n",
      "0.157 --> 0.110 --> 0.096 --> 0.089 --> 0.084 --> 0.080 --> 0.078 --> 0.078 --> \n"
     ]
    },
    {
     "name": "stderr",
     "output_type": "stream",
     "text": [
      "/opt/anaconda3/lib/python3.6/site-packages/matplotlib/font_manager.py:1316: UserWarning:\n",
      "\n",
      "findfont: Font family ['sans-serif'] not found. Falling back to DejaVu Sans\n",
      "\n"
     ]
    },
    {
     "data": {
      "image/png": "[encoded data removed]",
      "text/plain": [
       "<matplotlib.figure.Figure at 0x7fbc12364dd8>"
      ]
     },
     "metadata": {},
     "output_type": "display_data"
    }
   ],
   "source": [
    "# using library (http://www.scikit-yb.org/en/latest/api/cluster/elbow.html)\n",
    "\n",
    "# Instantiate the clustering model and visualizer\n",
    "model = KShape(random_state=seed)\n",
    "visualizer = KElbowVisualizer(model, k=(2,10))\n",
    "\n",
    "visualizer.fit(weekday_X_train)    # Fit the data to the visualizer\n",
    "visualizer.poof()    # Draw/show/poof the data\n"
   ]
  },
  {
   "cell_type": "markdown",
   "metadata": {
    "ExecuteTime": {
     "end_time": "2018-12-16T03:06:39.928529Z",
     "start_time": "2018-12-16T03:06:36.775706Z"
    }
   },
   "source": []
  },
  {
   "cell_type": "markdown",
   "metadata": {},
   "source": [
    "### Ratio of ground truth labels based on clustering"
   ]
  },
  {
   "cell_type": "code",
   "execution_count": null,
   "metadata": {},
   "outputs": [],
   "source": []
  }
 ],
 "metadata": {
  "kernelspec": {
   "display_name": "Python 3",
   "language": "python",
   "name": "python3"
  },
  "language_info": {
   "codemirror_mode": {
    "name": "ipython",
    "version": 3
   },
   "file_extension": ".py",
   "mimetype": "text/x-python",
   "name": "python",
   "nbconvert_exporter": "python",
   "pygments_lexer": "ipython3",
   "version": "3.6.6"
  },
  "toc": {
   "base_numbering": 1,
   "nav_menu": {},
   "number_sections": true,
   "sideBar": true,
   "skip_h1_title": false,
   "title_cell": "Table of Contents",
   "title_sidebar": "Contents",
   "toc_cell": false,
   "toc_position": {},
   "toc_section_display": true,
   "toc_window_display": true
  }
 },
 "nbformat": 4,
 "nbformat_minor": 2
}
