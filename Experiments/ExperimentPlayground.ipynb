{
 "cells": [
  {
   "cell_type": "markdown",
   "metadata": {},
   "source": [
    "# Experiment 1: k-Shape on Raw Time Series"
   ]
  },
  {
   "cell_type": "code",
   "execution_count": null,
   "metadata": {},
   "outputs": [],
   "source": []
  },
  {
   "cell_type": "code",
   "execution_count": null,
   "metadata": {},
   "outputs": [],
   "source": [
    "# from here the function calls will only be done to the ExperimentUtils\n",
    "\n",
    "\n",
    "i = 10\n",
    "\n",
    "seed = 3\n",
    "max_iter= 100\n",
    "rangeK = range(2, 11)\n",
    "\n",
    "# list of lists for scores based on different k values for all dataframes\n",
    "df_scores = []\n",
    "\n",
    "\n",
    "k_scores = [] # list of the scores for range of K for the current dataframe\n",
    "data = dataframes[i].copy()\n",
    "for k in rangeK:\n",
    "    model, labels = doKshape(data, dataframes_names[i], k, seed, max_iter)\n",
    "    k_scores.append(get_validation_scores(data.values, labels))\n",
    "    print(\"Dataframe: {}, Kshape with K = {}\".format(dataframes_names[i], k))\n",
    "\n",
    "\n",
    "df_scores.append(k_scores)\n",
    "\n",
    "obj_name = 'data/{}_kshape_scores'.format(dataframes_names[i])\n",
    "\n",
    "\n",
    "# save as python pickle\n",
    "f = open(obj_name + '.pkl', 'wb')\n",
    "pickle.dump(df_scores, f)\n",
    "f.close\n",
    "# save as csv\n",
    "df_scores = pd.DataFrame.from_dict(df_scores)\n",
    "df_scores.to_csv('{}.csv'.format(obj_name))"
   ]
  }
 ],
 "metadata": {
  "kernelspec": {
   "display_name": "Python 3",
   "language": "python",
   "name": "python3"
  },
  "language_info": {
   "codemirror_mode": {
    "name": "ipython",
    "version": 3
   },
   "file_extension": ".py",
   "mimetype": "text/x-python",
   "name": "python",
   "nbconvert_exporter": "python",
   "pygments_lexer": "ipython3",
   "version": "3.6.6"
  },
  "toc": {
   "base_numbering": 1,
   "nav_menu": {},
   "number_sections": true,
   "sideBar": true,
   "skip_h1_title": false,
   "title_cell": "Table of Contents",
   "title_sidebar": "Contents",
   "toc_cell": false,
   "toc_position": {},
   "toc_section_display": true,
   "toc_window_display": false
  }
 },
 "nbformat": 4,
 "nbformat_minor": 2
}
