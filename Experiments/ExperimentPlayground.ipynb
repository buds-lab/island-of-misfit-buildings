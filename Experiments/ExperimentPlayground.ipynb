{
 "cells": [
  {
   "cell_type": "markdown",
   "metadata": {},
   "source": [
    "# Experiment 1: k-Shape on Raw Time Series"
   ]
  },
  {
   "cell_type": "code",
   "execution_count": 1,
   "metadata": {
    "ExecuteTime": {
     "end_time": "2018-12-23T06:43:52.088888Z",
     "start_time": "2018-12-23T06:43:52.086395Z"
    }
   },
   "outputs": [],
   "source": [
    "# Libraries needed\n",
    "# !pip install nbimporter # uncomment if library is not install\n"
   ]
  },
  {
   "cell_type": "code",
   "execution_count": 2,
   "metadata": {
    "ExecuteTime": {
     "end_time": "2018-12-23T06:43:53.809215Z",
     "start_time": "2018-12-23T06:43:52.093240Z"
    }
   },
   "outputs": [
    {
     "name": "stdout",
     "output_type": "stream",
     "text": [
      "Importing Jupyter notebook from /Users/matias/Documents/Education/Graduate/NUS/Projects/sensor-cluster-er/Experiments/ExperimentUtils.ipynb\n",
      "Importing Jupyter notebook from /Users/matias/Documents/Education/Graduate/NUS/Projects/sensor-cluster-er/Preprocessing/preprocessing.ipynb\n",
      "Importing Jupyter notebook from /Users/matias/Documents/Education/Graduate/NUS/Projects/sensor-cluster-er/Preprocessing/context_extraction.ipynb\n",
      "Importing Jupyter notebook from /Users/matias/Documents/Education/Graduate/NUS/Projects/sensor-cluster-er/Preprocessing/load_cuve_generation.ipynb\n",
      "Importing Jupyter notebook from /Users/matias/Documents/Education/Graduate/NUS/Projects/sensor-cluster-er/ClusteringAnalysis/ClusteringValidationMetrics.ipynb\n",
      "Importing Jupyter notebook from /Users/matias/Documents/Education/Graduate/NUS/Projects/sensor-cluster-er/ClusteringAnalysis/Kshape.ipynb\n"
     ]
    }
   ],
   "source": [
    "# Existing Notebooks\n",
    "import nbimporter\n",
    "import os\n",
    "import sys\n",
    "\n",
    "module_path = os.path.abspath(os.path.join('..'))\n",
    "if module_path not in sys.path:\n",
    "    sys.path.append(module_path)\n",
    "\n",
    "from Experiments.ExperimentUtils import runExperiment\n"
   ]
  },
  {
   "cell_type": "markdown",
   "metadata": {},
   "source": [
    "Datasets:\n",
    "- BDG\n",
    "- DGS\n",
    "\n",
    "Contexts:\n",
    "- weekday\n",
    "- weekend\n",
    "- fullweek\n",
    "\n",
    "Load Curve Aggregation Function:\n",
    "- average\n",
    "- median\n",
    "\n",
    "Algorithms:\n",
    "- kshape\n",
    "\n",
    "Algorithm's parameter:\n",
    "- For clustering\n",
    "    - k value (could be one single value `algo_parameter=3` or a list of values `algo_parameter=[2,3,5,9]`\n",
    "\n",
    "Validation Metrics:\n",
    "- all"
   ]
  },
  {
   "cell_type": "code",
   "execution_count": 3,
   "metadata": {
    "ExecuteTime": {
     "end_time": "2018-12-23T06:44:02.722592Z",
     "start_time": "2018-12-23T06:43:53.810685Z"
    }
   },
   "outputs": [
    {
     "name": "stdout",
     "output_type": "stream",
     "text": [
      "Preprocessed dataset already exists, loading it ...\n",
      "Dataset with weekday context already already exists, loading it ...\n",
      "Dataset with weekday context and average load curve aggregation function already already exists, loading it ...\n",
      "Running experiment with kshape and k = 2\n",
      "Running experiment with kshape and k = 3\n",
      "Running experiment with kshape and k = 4\n",
      "Running experiment with kshape and k = 5\n",
      "Running experiment with kshape and k = 6\n",
      "Running experiment with kshape and k = 7\n",
      "Running experiment with kshape and k = 8\n",
      "Running experiment with kshape and k = 9\n",
      "Running experiment with kshape and k = 10\n",
      "Scores saved in ../data/results/BDG_weekday_average_kshape_scores.csv\n"
     ]
    }
   ],
   "source": [
    "# runExperiment(datasetName, context, algorithm='kshape', algo_parameter, validation_metrics):\n",
    "\n",
    "runExperiment('BDG', 'weekday', 'average', 'kshape', range(2, 11), 'all')\n"
   ]
  }
 ],
 "metadata": {
  "kernelspec": {
   "display_name": "Python 3",
   "language": "python",
   "name": "python3"
  },
  "language_info": {
   "codemirror_mode": {
    "name": "ipython",
    "version": 3
   },
   "file_extension": ".py",
   "mimetype": "text/x-python",
   "name": "python",
   "nbconvert_exporter": "python",
   "pygments_lexer": "ipython3",
   "version": "3.6.6"
  },
  "toc": {
   "base_numbering": 1,
   "nav_menu": {},
   "number_sections": true,
   "sideBar": true,
   "skip_h1_title": false,
   "title_cell": "Table of Contents",
   "title_sidebar": "Contents",
   "toc_cell": false,
   "toc_position": {},
   "toc_section_display": true,
   "toc_window_display": false
  }
 },
 "nbformat": 4,
 "nbformat_minor": 2
}
