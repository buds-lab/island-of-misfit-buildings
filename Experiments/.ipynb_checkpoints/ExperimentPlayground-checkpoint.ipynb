{
 "cells": [
  {
   "cell_type": "markdown",
   "metadata": {},
   "source": [
    "# Experiment 1: k-Shape on Raw Time Series"
   ]
  },
  {
   "cell_type": "code",
   "execution_count": 1,
   "metadata": {
    "ExecuteTime": {
     "end_time": "2018-12-23T02:17:56.060851Z",
     "start_time": "2018-12-23T02:17:56.057709Z"
    }
   },
   "outputs": [],
   "source": [
    "# Libraries needed\n",
    "# !pip install nbimporter # uncomment if library is not install\n"
   ]
  },
  {
   "cell_type": "code",
   "execution_count": 2,
   "metadata": {
    "ExecuteTime": {
     "end_time": "2018-12-23T02:17:57.908431Z",
     "start_time": "2018-12-23T02:17:56.068151Z"
    }
   },
   "outputs": [
    {
     "name": "stdout",
     "output_type": "stream",
     "text": [
      "Importing Jupyter notebook from /Users/matias/Documents/Education/Graduate/NUS/Projects/sensor-cluster-er/Experiments/ExperimentUtils.ipynb\n",
      "Importing Jupyter notebook from /Users/matias/Documents/Education/Graduate/NUS/Projects/sensor-cluster-er/Preprocessing/preprocessing.ipynb\n",
      "Importing Jupyter notebook from /Users/matias/Documents/Education/Graduate/NUS/Projects/sensor-cluster-er/Preprocessing/context_extraction.ipynb\n",
      "Importing Jupyter notebook from /Users/matias/Documents/Education/Graduate/NUS/Projects/sensor-cluster-er/Preprocessing/load_cuve_generation.ipynb\n",
      "Importing Jupyter notebook from /Users/matias/Documents/Education/Graduate/NUS/Projects/sensor-cluster-er/ClusteringAnalysis/ClusteringValidationMetrics.ipynb\n",
      "Importing Jupyter notebook from /Users/matias/Documents/Education/Graduate/NUS/Projects/sensor-cluster-er/ClusteringAnalysis/Kshape.ipynb\n"
     ]
    }
   ],
   "source": [
    "# Existing Notebooks\n",
    "import nbimporter\n",
    "import os\n",
    "import sys\n",
    "\n",
    "module_path = os.path.abspath(os.path.join('..'))\n",
    "if module_path not in sys.path:\n",
    "    sys.path.append(module_path)\n",
    "\n",
    "from Experiments.ExperimentUtils import runExperiment\n"
   ]
  },
  {
   "cell_type": "markdown",
   "metadata": {},
   "source": [
    "Datasets:\n",
    "- BDG\n",
    "- DGS\n",
    "\n",
    "Contexts:\n",
    "- weekday\n",
    "- weekend\n",
    "- fullweek\n",
    "\n",
    "Load Curve Aggregation Function:\n",
    "- average\n",
    "- median\n",
    "\n",
    "Algorithms:\n",
    "- kshape\n",
    "\n",
    "Algorithm's parameter:\n",
    "- For clustering\n",
    "    - k value (could be one single value `algo_parameter=3` or a list of values `algo_parameter=[2,3,5,9]`\n",
    "\n",
    "Validation Metrics:\n",
    "- all"
   ]
  },
  {
   "cell_type": "code",
   "execution_count": 3,
   "metadata": {
    "ExecuteTime": {
     "end_time": "2018-12-23T02:18:07.464932Z",
     "start_time": "2018-12-23T02:17:57.911479Z"
    }
   },
   "outputs": [
    {
     "name": "stdout",
     "output_type": "stream",
     "text": [
      "Preprocessed dataset already exists, loading it ...\n",
      "Dataset with weekday context already already exists, loading it ...\n",
      "Dataset with weekday context and average load curve aggregation function already already exists, loading it ...\n",
      "Dataframe: BDG, Kshape with K = 2\n",
      "Dataframe: BDG, Kshape with K = 3\n",
      "Dataframe: BDG, Kshape with K = 4\n",
      "Dataframe: BDG, Kshape with K = 5\n",
      "Dataframe: BDG, Kshape with K = 6\n",
      "Dataframe: BDG, Kshape with K = 7\n",
      "Dataframe: BDG, Kshape with K = 8\n",
      "Dataframe: BDG, Kshape with K = 9\n",
      "Dataframe: BDG, Kshape with K = 10\n"
     ]
    }
   ],
   "source": [
    "# runExperiment(datasetName, context, algorithm='kshape', algo_parameter, validation_metrics):\n",
    "\n",
    "runExperiment('BDG', 'weekday', 'average', 'kshape', range(2, 11), 'all')\n"
   ]
  },
  {
   "cell_type": "code",
   "execution_count": 4,
   "metadata": {
    "ExecuteTime": {
     "end_time": "2018-12-23T02:18:07.699041Z",
     "start_time": "2018-12-23T02:18:07.467243Z"
    }
   },
   "outputs": [
    {
     "ename": "NameError",
     "evalue": "name 'dataframes' is not defined",
     "output_type": "error",
     "traceback": [
      "\u001b[0;31m---------------------------------------------------------------------------\u001b[0m",
      "\u001b[0;31mNameError\u001b[0m                                 Traceback (most recent call last)",
      "\u001b[0;32m<ipython-input-4-a1ce52a137fd>\u001b[0m in \u001b[0;36m<module>\u001b[0;34m\u001b[0m\n\u001b[1;32m     13\u001b[0m \u001b[0;34m\u001b[0m\u001b[0m\n\u001b[1;32m     14\u001b[0m \u001b[0mk_scores\u001b[0m \u001b[0;34m=\u001b[0m \u001b[0;34m[\u001b[0m\u001b[0;34m]\u001b[0m \u001b[0;31m# list of the scores for range of K for the current dataframe\u001b[0m\u001b[0;34m\u001b[0m\u001b[0m\n\u001b[0;32m---> 15\u001b[0;31m \u001b[0mdata\u001b[0m \u001b[0;34m=\u001b[0m \u001b[0mdataframes\u001b[0m\u001b[0;34m[\u001b[0m\u001b[0mi\u001b[0m\u001b[0;34m]\u001b[0m\u001b[0;34m.\u001b[0m\u001b[0mcopy\u001b[0m\u001b[0;34m(\u001b[0m\u001b[0;34m)\u001b[0m\u001b[0;34m\u001b[0m\u001b[0m\n\u001b[0m\u001b[1;32m     16\u001b[0m \u001b[0;32mfor\u001b[0m \u001b[0mk\u001b[0m \u001b[0;32min\u001b[0m \u001b[0mrangeK\u001b[0m\u001b[0;34m:\u001b[0m\u001b[0;34m\u001b[0m\u001b[0m\n\u001b[1;32m     17\u001b[0m     \u001b[0mmodel\u001b[0m\u001b[0;34m,\u001b[0m \u001b[0mlabels\u001b[0m \u001b[0;34m=\u001b[0m \u001b[0mdoKshape\u001b[0m\u001b[0;34m(\u001b[0m\u001b[0mdata\u001b[0m\u001b[0;34m,\u001b[0m \u001b[0mdataframes_names\u001b[0m\u001b[0;34m[\u001b[0m\u001b[0mi\u001b[0m\u001b[0;34m]\u001b[0m\u001b[0;34m,\u001b[0m \u001b[0mk\u001b[0m\u001b[0;34m,\u001b[0m \u001b[0mseed\u001b[0m\u001b[0;34m,\u001b[0m \u001b[0mmax_iter\u001b[0m\u001b[0;34m)\u001b[0m\u001b[0;34m\u001b[0m\u001b[0m\n",
      "\u001b[0;31mNameError\u001b[0m: name 'dataframes' is not defined"
     ]
    }
   ],
   "source": [
    "# from here the function calls will only be done to the ExperimentUtils\n",
    "\n",
    "\n",
    "i = 10\n",
    "\n",
    "seed = 3\n",
    "max_iter= 100\n",
    "rangeK = range(2, 11)\n",
    "\n",
    "# list of lists for scores based on different k values for all dataframes\n",
    "df_scores = []\n",
    "\n",
    "\n",
    "k_scores = [] # list of the scores for range of K for the current dataframe\n",
    "data = dataframes[i].copy()\n",
    "for k in rangeK:\n",
    "    model, labels = doKshape(data, dataframes_names[i], k, seed, max_iter)\n",
    "    k_scores.append(get_validation_scores(data.values, labels))\n",
    "    print(\"Dataframe: {}, Kshape with K = {}\".format(dataframes_names[i], k))\n",
    "\n",
    "\n",
    "df_scores.append(k_scores)\n",
    "\n",
    "obj_name = 'data/{}_kshape_scores'.format(dataframes_names[i])\n",
    "\n",
    "\n",
    "# save as python pickle\n",
    "f = open(obj_name + '.pkl', 'wb')\n",
    "pickle.dump(df_scores, f)\n",
    "f.close\n",
    "# save as csv\n",
    "df_scores = pd.DataFrame.from_dict(df_scores)\n",
    "df_scores.to_csv('{}.csv'.format(obj_name))"
   ]
  }
 ],
 "metadata": {
  "kernelspec": {
   "display_name": "Python 3",
   "language": "python",
   "name": "python3"
  },
  "language_info": {
   "codemirror_mode": {
    "name": "ipython",
    "version": 3
   },
   "file_extension": ".py",
   "mimetype": "text/x-python",
   "name": "python",
   "nbconvert_exporter": "python",
   "pygments_lexer": "ipython3",
   "version": "3.6.6"
  },
  "toc": {
   "base_numbering": 1,
   "nav_menu": {},
   "number_sections": true,
   "sideBar": true,
   "skip_h1_title": false,
   "title_cell": "Table of Contents",
   "title_sidebar": "Contents",
   "toc_cell": false,
   "toc_position": {},
   "toc_section_display": true,
   "toc_window_display": false
  }
 },
 "nbformat": 4,
 "nbformat_minor": 2
}
