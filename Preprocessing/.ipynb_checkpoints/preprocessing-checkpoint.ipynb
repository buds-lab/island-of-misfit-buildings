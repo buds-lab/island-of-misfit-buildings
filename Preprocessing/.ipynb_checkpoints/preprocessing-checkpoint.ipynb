{
 "cells": [
  {
   "cell_type": "code",
   "execution_count": 1,
   "metadata": {
    "ExecuteTime": {
     "end_time": "2018-12-23T10:37:28.048092Z",
     "start_time": "2018-12-23T10:37:27.036757Z"
    }
   },
   "outputs": [],
   "source": [
    "# Built-in libraries\n",
    "from datetime import datetime, timedelta\n",
    "\n",
    "# NumPy, SciPy and Pandas\n",
    "import pandas as pd\n",
    "import numpy as np\n"
   ]
  },
  {
   "cell_type": "code",
   "execution_count": 2,
   "metadata": {
    "ExecuteTime": {
     "end_time": "2018-12-23T10:37:28.054718Z",
     "start_time": "2018-12-23T10:37:28.050355Z"
    }
   },
   "outputs": [],
   "source": [
    "\"\"\"\n",
    "Constants for time period with maximum number of buildings measured simultaneously in the BDG dataset.\n",
    "For more details, go to old_files/RawFeatures_BDG.ipynb\n",
    "\"\"\"\n",
    "BDG_STARTDATE = datetime.strptime('01/01/15 00:00', '%d/%m/%y %H:%M')\n",
    "BDG_ENDDATE = datetime.strptime('30/11/15 23:00','%d/%m/%y %H:%M')\n"
   ]
  },
  {
   "cell_type": "code",
   "execution_count": 5,
   "metadata": {
    "ExecuteTime": {
     "end_time": "2018-12-23T10:47:38.427912Z",
     "start_time": "2018-12-23T10:47:38.414394Z"
    }
   },
   "outputs": [],
   "source": [
    "def hourly_dataset(name):\n",
    "    # Building Data Genome dataset\n",
    "    if name == 'BDG':\n",
    "        df = pd.read_csv('../data/raw/temp_open_utc_complete.csv', parse_dates=True, \n",
    "                         infer_datetime_format=True, index_col=0)\n",
    "        # truncate the dataframe based on a pre-calculated time period, if needed\n",
    "        startDate = BDG_STARTDATE\n",
    "        endDate = BDG_ENDDATE\n",
    "        df = df[(df.index >= startDate) & (df.index <= endDate)]\n",
    "    \n",
    "    # Washington D.C. dataset\n",
    "    elif name == 'DGS':\n",
    "        df = pd.read_csv('../data/raw/DGS_322_Buildings-15m-By_Building-DST-gap-filled-3-2-18-508pm.csv',\n",
    "                            parse_dates=[['Building ID', 'Unnamed: 1']], infer_datetime_format=True)\n",
    "        # get rid of temperature column\n",
    "        del df['Unnamed: 2']\n",
    "\n",
    "        # update column names to match the row of building names\n",
    "        new_column_names = df.iloc[0,:]\n",
    "        df.columns = new_column_names\n",
    "\n",
    "        # get rid of rows with metadata and update index\n",
    "        df = df.drop([0,1,2], axis=0)\n",
    "        df = df.rename(columns = {'Building nan':'timestamp'})\n",
    "        df.index = df['timestamp'].astype('datetime64[ns]')\n",
    "        del df['timestamp']\n",
    "        df = df.astype(float)\n",
    "        \n",
    "        # since the dataset is made from 15min interval readings, resample to 1 hr\n",
    "        df = df.resample('1H').sum()\n",
    "             \n",
    "    else:\n",
    "        print(\"Please choose a valid dataset\")\n",
    "        exit()\n",
    "    \n",
    "    # save the file to csv before exit\n",
    "    df.to_csv('../data/processed/{}_dataset.csv'.format(name))\n",
    "    \n",
    "    return df\n"
   ]
  },
  {
   "cell_type": "code",
   "execution_count": null,
   "metadata": {
    "ExecuteTime": {
     "start_time": "2018-12-23T10:47:41.061Z"
    }
   },
   "outputs": [],
   "source": [
    "# load building gnome dataset (BDG)\n",
    "df_BDG = hourly_dataset('BDG')\n",
    "\n",
    "# load dc building dataset (DC)\n",
    "df_DGS = hourly_dataset('DGS')\n"
   ]
  },
  {
   "cell_type": "code",
   "execution_count": null,
   "metadata": {},
   "outputs": [],
   "source": []
  }
 ],
 "metadata": {
  "kernelspec": {
   "display_name": "Python 3",
   "language": "python",
   "name": "python3"
  },
  "language_info": {
   "codemirror_mode": {
    "name": "ipython",
    "version": 3
   },
   "file_extension": ".py",
   "mimetype": "text/x-python",
   "name": "python",
   "nbconvert_exporter": "python",
   "pygments_lexer": "ipython3",
   "version": "3.6.6"
  },
  "toc": {
   "base_numbering": 1,
   "nav_menu": {},
   "number_sections": true,
   "sideBar": true,
   "skip_h1_title": false,
   "title_cell": "Table of Contents",
   "title_sidebar": "Contents",
   "toc_cell": false,
   "toc_position": {},
   "toc_section_display": true,
   "toc_window_display": false
  }
 },
 "nbformat": 4,
 "nbformat_minor": 2
}
