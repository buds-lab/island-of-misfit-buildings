{
 "cells": [
  {
   "cell_type": "code",
   "execution_count": 1,
   "metadata": {
    "ExecuteTime": {
     "end_time": "2018-12-23T10:29:55.924588Z",
     "start_time": "2018-12-23T10:29:54.837394Z"
    }
   },
   "outputs": [],
   "source": [
    "# Built-in libraries\n",
    "from datetime import datetime, timedelta\n",
    "import math\n",
    "\n",
    "# NumPy, SciPy and Pandas\n",
    "import pandas as pd\n",
    "import numpy as np\n"
   ]
  },
  {
   "cell_type": "code",
   "execution_count": 4,
   "metadata": {
    "ExecuteTime": {
     "end_time": "2018-12-23T10:30:28.416034Z",
     "start_time": "2018-12-23T10:30:28.408619Z"
    }
   },
   "outputs": [],
   "source": [
    "\"\"\"\n",
    "Function to extract a given context from a dataframe. The resulting context is saved in a csv file.\n",
    "Current contexts:\n",
    "- Weekday\n",
    "- Weekend\n",
    "- Fullweek\n",
    "\"\"\"\n",
    "def getContext(datasetName, context):\n",
    "    dataframe = pd.read_csv('../data/processed/{}_dataset.csv'.format(datasetName), parse_dates=True, \n",
    "                            infer_datetime_format=True, index_col=0)\n",
    "\n",
    "    # resample based on context    \n",
    "    if context == \"weekday\":\n",
    "        df_context = dataframe[(dataframe.index.weekday != 5) & \n",
    "                               (dataframe.index.weekday != 6)]\n",
    "    elif context == \"weekend\":\n",
    "        df_context = dataframe[(dataframe.index.weekday == 5) | \n",
    "                               (dataframe.index.weekday == 6)]\n",
    "    elif context == \"fullweek\":\n",
    "        df_context = dataframe.copy()\n",
    "    else:\n",
    "        print(\"Please choose a valid context\")\n",
    "        exit()\n",
    "    \n",
    "    # delete the dates with 0 values\n",
    "    df_context = df_context[(df_context.T != 0).any()]\n",
    "    # replace 0.0 with NaN to drop columns with NaN\n",
    "    # df_context = df_context.replace(0.0, np.nan)\n",
    "    # drop columns with all nan values\n",
    "    df_context = df_context.dropna(axis=1, how='all') \n",
    "    # drop columns with more than 7 nan values (seems to be a sweet spot)\n",
    "    df_context = df_context.dropna(thresh=len(df_context) - 7,axis=1)\n",
    "\n",
    "    # save the file and return the dataframe\n",
    "    df_context.to_csv(\"../data/processed/{}_{}_dataset.csv\".format(datasetName, context))\n",
    "    return df_context\n"
   ]
  },
  {
   "cell_type": "code",
   "execution_count": 6,
   "metadata": {
    "ExecuteTime": {
     "end_time": "2018-12-23T10:44:53.735735Z",
     "start_time": "2018-12-23T10:44:15.245684Z"
    }
   },
   "outputs": [],
   "source": [
    "df_BDG_weekday = getContext('BDG', 'weekday')\n",
    "df_BDG_weekend = getContext('BDG', 'weekend')\n",
    "df_BDG_fullweek = getContext('BDG', 'fullweek')\n",
    "\n",
    "df_DGS_weekday = getContext('DGS', 'weekday')\n",
    "df_DGS_weekend = getContext('DGS', 'weekend')\n",
    "df_DGS_fullweek = getContext('DGS', 'fullweek')\n"
   ]
  },
  {
   "cell_type": "code",
   "execution_count": null,
   "metadata": {},
   "outputs": [],
   "source": []
  }
 ],
 "metadata": {
  "kernelspec": {
   "display_name": "Python 3",
   "language": "python",
   "name": "python3"
  },
  "language_info": {
   "codemirror_mode": {
    "name": "ipython",
    "version": 3
   },
   "file_extension": ".py",
   "mimetype": "text/x-python",
   "name": "python",
   "nbconvert_exporter": "python",
   "pygments_lexer": "ipython3",
   "version": "3.6.6"
  },
  "toc": {
   "base_numbering": 1,
   "nav_menu": {},
   "number_sections": true,
   "sideBar": true,
   "skip_h1_title": false,
   "title_cell": "Table of Contents",
   "title_sidebar": "Contents",
   "toc_cell": false,
   "toc_position": {},
   "toc_section_display": true,
   "toc_window_display": false
  }
 },
 "nbformat": 4,
 "nbformat_minor": 2
}
