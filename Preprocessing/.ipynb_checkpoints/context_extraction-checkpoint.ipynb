{
 "cells": [
  {
   "cell_type": "code",
   "execution_count": 1,
   "metadata": {
    "ExecuteTime": {
     "end_time": "2018-12-21T10:45:21.585545Z",
     "start_time": "2018-12-21T10:45:20.723405Z"
    }
   },
   "outputs": [],
   "source": [
    "# Built-in libraries\n",
    "from datetime import datetime, timedelta\n",
    "import math\n",
    "\n",
    "# NumPy, SciPy and Pandas\n",
    "import pandas as pd\n",
    "import numpy as np\n"
   ]
  },
  {
   "cell_type": "code",
   "execution_count": 2,
   "metadata": {
    "ExecuteTime": {
     "end_time": "2018-12-21T10:45:21.591222Z",
     "start_time": "2018-12-21T10:45:21.587266Z"
    }
   },
   "outputs": [],
   "source": [
    "\"\"\"\n",
    "Constants for time period with maximum number of buildings measured simultaneously in the BDG dataset.\n",
    "For more details, go to old_files/RawFeatures_BDG.ipynb\n",
    "\"\"\"\n",
    "BDG_STARTDATE = datetime.strptime('01/01/15 00:00', '%d/%m/%y %H:%M')\n",
    "BDG_ENDDATE = datetime.strptime('30/11/15 23:00','%d/%m/%y %H:%M')\n"
   ]
  },
  {
   "cell_type": "code",
   "execution_count": 3,
   "metadata": {
    "ExecuteTime": {
     "end_time": "2018-12-21T10:45:21.599951Z",
     "start_time": "2018-12-21T10:45:21.593208Z"
    }
   },
   "outputs": [],
   "source": [
    "\"\"\"\n",
    "Function to extract a given context from a dataframe. The resulting context is saved in a csv file.\n",
    "Current contexts:\n",
    "- Weekday\n",
    "- Weekend\n",
    "- Fullweek\n",
    "\"\"\"\n",
    "def getContext(datasetName, context):\n",
    "    dataframe = pd.read_csv('../data/processed/{}_dataset.csv'.format(datasetName), parse_dates=True, \n",
    "                            infer_datetime_format=True, index_col=0)\n",
    "    # truncate the dataframe based on a pre-calculated time period, if needed\n",
    "    if datasetName == 'BDG':\n",
    "        startDate = BDG_STARTDATE\n",
    "        endDate = BDG_ENDDATE\n",
    "    else:\n",
    "        startDate = dataframe.index[0]\n",
    "        endDate = dataframe.index[len(dataframe) - 1]\n",
    "    \n",
    "    dataframe_truncated = dataframe[(dataframe.index >= startDate) & (dataframe.index <= endDate)]\n",
    "\n",
    "    # resample based on context    \n",
    "    if context == \"weekday\":\n",
    "        df_context = dataframe_truncated[(dataframe_truncated.index.weekday != 5) & \n",
    "                                     (dataframe_truncated.index.weekday != 6)]\n",
    "    elif context == \"weekend\":\n",
    "        df_context = dataframe_truncated[(dataframe_truncated.index.weekday == 5) |\n",
    "                                     (dataframe_truncated.index.weekday == 6)]\n",
    "    elif context == \"fullweek\":\n",
    "        df_context = dataframe_truncated.copy()\n",
    "    else:\n",
    "        print(\"Please choose a valid context\")\n",
    "        exit()\n",
    "    \n",
    "    # delete the dates with 0 values\n",
    "    df_context = df_context[(df_context.T != 0).any()]\n",
    "    # replace 0.0 with NaN to drop columns with NaN\n",
    "    # df_context = df_context.replace(0.0, np.nan)\n",
    "    # drop columns with all nan values\n",
    "    df_context = df_context.dropna(axis=1, how='all') \n",
    "    # drop columns with more than 7 nan values (seems to be a sweet spot)\n",
    "    df_context = df_context.dropna(thresh=len(df_context) - 7,axis=1)\n",
    "\n",
    "    # save the file and return the dataframe\n",
    "    df_context.to_csv(\"../data/processed/{}_{}_dataset.csv\".format(datasetName, context))\n",
    "    return df_context\n"
   ]
  },
  {
   "cell_type": "code",
   "execution_count": 4,
   "metadata": {
    "ExecuteTime": {
     "end_time": "2018-12-21T10:45:48.795852Z",
     "start_time": "2018-12-21T10:45:21.602173Z"
    }
   },
   "outputs": [],
   "source": [
    "df_BDG_weekday = getContext('BDG', 'weekday')\n",
    "df_BDG_weekend = getContext('BDG', 'weekend')\n",
    "df_BDG_fullweek = getContext('BDG', 'fullweek')\n",
    "\n",
    "df_DC_weekday = getContext('DGS', 'weekday')\n",
    "df_DC_weekend = getContext('DGS', 'weekend')\n",
    "df_DC_fullweek = getContext('DGS', 'fullweek')\n"
   ]
  },
  {
   "cell_type": "code",
   "execution_count": null,
   "metadata": {},
   "outputs": [],
   "source": []
  }
 ],
 "metadata": {
  "kernelspec": {
   "display_name": "Python 3",
   "language": "python",
   "name": "python3"
  },
  "language_info": {
   "codemirror_mode": {
    "name": "ipython",
    "version": 3
   },
   "file_extension": ".py",
   "mimetype": "text/x-python",
   "name": "python",
   "nbconvert_exporter": "python",
   "pygments_lexer": "ipython3",
   "version": "3.6.6"
  },
  "toc": {
   "base_numbering": 1,
   "nav_menu": {},
   "number_sections": true,
   "sideBar": true,
   "skip_h1_title": false,
   "title_cell": "Table of Contents",
   "title_sidebar": "Contents",
   "toc_cell": false,
   "toc_position": {},
   "toc_section_display": true,
   "toc_window_display": false
  }
 },
 "nbformat": 4,
 "nbformat_minor": 2
}
